{
 "cells": [
  {
   "cell_type": "markdown",
   "metadata": {
    "id": "q7wEJ_Emcc06"
   },
   "source": [
    "# Phase 0:"
   ]
  },
  {
   "cell_type": "markdown",
   "metadata": {
    "id": "55uIKp87Gm9R"
   },
   "source": [
    "# **CA 04:**\n",
    "##Pardis Zandkarimi\n",
    "##810101081\n",
    "In this CA we learned about different types of ML algorithms and "
   ]
  },
  {
   "cell_type": "code",
   "execution_count": 3,
   "metadata": {
    "id": "F3m_CaH3gXes"
   },
   "outputs": [],
   "source": [
    "import pandas as pd\n",
    "import matplotlib.pyplot as plt\n",
    "import math\n",
    "import seaborn as sns\n",
    "from sklearn.model_selection import train_test_split"
   ]
  },
  {
   "cell_type": "code",
   "execution_count": 4,
   "metadata": {
    "colab": {
     "base_uri": "https://localhost:8080/",
     "height": 411
    },
    "id": "mAafXDmsJUuX",
    "outputId": "73bfedb7-b774-49d5-9f70-940e48ceee12"
   },
   "outputs": [
    {
     "data": {
      "text/html": [
       "\n",
       "  <div id=\"df-16a5ce92-8e84-4abd-a552-22b985bf26c7\">\n",
       "    <div class=\"colab-df-container\">\n",
       "      <div>\n",
       "<style scoped>\n",
       "    .dataframe tbody tr th:only-of-type {\n",
       "        vertical-align: middle;\n",
       "    }\n",
       "\n",
       "    .dataframe tbody tr th {\n",
       "        vertical-align: top;\n",
       "    }\n",
       "\n",
       "    .dataframe thead th {\n",
       "        text-align: right;\n",
       "    }\n",
       "</style>\n",
       "<table border=\"1\" class=\"dataframe\">\n",
       "  <thead>\n",
       "    <tr style=\"text-align: right;\">\n",
       "      <th></th>\n",
       "      <th>Unnamed: 0.2</th>\n",
       "      <th>Unnamed: 0.1</th>\n",
       "      <th>Unnamed: 0</th>\n",
       "      <th>id</th>\n",
       "      <th>price</th>\n",
       "      <th>bedrooms</th>\n",
       "      <th>bathrooms</th>\n",
       "      <th>sqft_living</th>\n",
       "      <th>sqft_lot</th>\n",
       "      <th>floors</th>\n",
       "      <th>...</th>\n",
       "      <th>sqft_above</th>\n",
       "      <th>sqft_basement</th>\n",
       "      <th>yr_built</th>\n",
       "      <th>yr_renovated</th>\n",
       "      <th>zipcode</th>\n",
       "      <th>lat</th>\n",
       "      <th>long</th>\n",
       "      <th>sqft_living15</th>\n",
       "      <th>sqft_lot15</th>\n",
       "      <th>house_age</th>\n",
       "    </tr>\n",
       "  </thead>\n",
       "  <tbody>\n",
       "    <tr>\n",
       "      <th>count</th>\n",
       "      <td>21613.00000</td>\n",
       "      <td>21613.00000</td>\n",
       "      <td>21613.00000</td>\n",
       "      <td>2.161300e+04</td>\n",
       "      <td>2.161300e+04</td>\n",
       "      <td>21613.000000</td>\n",
       "      <td>21613.000000</td>\n",
       "      <td>18528.000000</td>\n",
       "      <td>2.161300e+04</td>\n",
       "      <td>18530.000000</td>\n",
       "      <td>...</td>\n",
       "      <td>21613.000000</td>\n",
       "      <td>21184.000000</td>\n",
       "      <td>18531.000000</td>\n",
       "      <td>21613.000000</td>\n",
       "      <td>21613.000000</td>\n",
       "      <td>21613.000000</td>\n",
       "      <td>21613.000000</td>\n",
       "      <td>21613.000000</td>\n",
       "      <td>21613.000000</td>\n",
       "      <td>21613.000000</td>\n",
       "    </tr>\n",
       "    <tr>\n",
       "      <th>mean</th>\n",
       "      <td>10806.00000</td>\n",
       "      <td>10806.00000</td>\n",
       "      <td>10806.00000</td>\n",
       "      <td>4.580302e+09</td>\n",
       "      <td>5.401822e+05</td>\n",
       "      <td>3.367464</td>\n",
       "      <td>2.111900</td>\n",
       "      <td>2077.569031</td>\n",
       "      <td>1.510697e+04</td>\n",
       "      <td>1.492903</td>\n",
       "      <td>...</td>\n",
       "      <td>1788.390691</td>\n",
       "      <td>292.121082</td>\n",
       "      <td>1970.896714</td>\n",
       "      <td>84.402258</td>\n",
       "      <td>98077.939805</td>\n",
       "      <td>47.560053</td>\n",
       "      <td>-122.213896</td>\n",
       "      <td>1986.552492</td>\n",
       "      <td>12768.455652</td>\n",
       "      <td>50.994864</td>\n",
       "    </tr>\n",
       "    <tr>\n",
       "      <th>std</th>\n",
       "      <td>6239.28002</td>\n",
       "      <td>6239.28002</td>\n",
       "      <td>6239.28002</td>\n",
       "      <td>2.876566e+09</td>\n",
       "      <td>3.673622e+05</td>\n",
       "      <td>0.943028</td>\n",
       "      <td>0.780697</td>\n",
       "      <td>953.971679</td>\n",
       "      <td>4.142051e+04</td>\n",
       "      <td>0.538562</td>\n",
       "      <td>...</td>\n",
       "      <td>828.090978</td>\n",
       "      <td>442.637777</td>\n",
       "      <td>29.406420</td>\n",
       "      <td>401.679240</td>\n",
       "      <td>53.505026</td>\n",
       "      <td>0.138564</td>\n",
       "      <td>0.140828</td>\n",
       "      <td>685.391304</td>\n",
       "      <td>27304.179631</td>\n",
       "      <td>29.373411</td>\n",
       "    </tr>\n",
       "    <tr>\n",
       "      <th>min</th>\n",
       "      <td>0.00000</td>\n",
       "      <td>0.00000</td>\n",
       "      <td>0.00000</td>\n",
       "      <td>1.000102e+06</td>\n",
       "      <td>7.500000e+04</td>\n",
       "      <td>-5.000000</td>\n",
       "      <td>-5.000000</td>\n",
       "      <td>-33323.000000</td>\n",
       "      <td>5.200000e+02</td>\n",
       "      <td>1.000000</td>\n",
       "      <td>...</td>\n",
       "      <td>290.000000</td>\n",
       "      <td>0.000000</td>\n",
       "      <td>1900.000000</td>\n",
       "      <td>0.000000</td>\n",
       "      <td>98001.000000</td>\n",
       "      <td>47.155900</td>\n",
       "      <td>-122.519000</td>\n",
       "      <td>399.000000</td>\n",
       "      <td>651.000000</td>\n",
       "      <td>7.000000</td>\n",
       "    </tr>\n",
       "    <tr>\n",
       "      <th>25%</th>\n",
       "      <td>5403.00000</td>\n",
       "      <td>5403.00000</td>\n",
       "      <td>5403.00000</td>\n",
       "      <td>2.123049e+09</td>\n",
       "      <td>3.219500e+05</td>\n",
       "      <td>3.000000</td>\n",
       "      <td>1.750000</td>\n",
       "      <td>1430.000000</td>\n",
       "      <td>5.040000e+03</td>\n",
       "      <td>1.000000</td>\n",
       "      <td>...</td>\n",
       "      <td>1190.000000</td>\n",
       "      <td>0.000000</td>\n",
       "      <td>1951.000000</td>\n",
       "      <td>0.000000</td>\n",
       "      <td>98033.000000</td>\n",
       "      <td>47.471000</td>\n",
       "      <td>-122.328000</td>\n",
       "      <td>1490.000000</td>\n",
       "      <td>5100.000000</td>\n",
       "      <td>25.000000</td>\n",
       "    </tr>\n",
       "    <tr>\n",
       "      <th>50%</th>\n",
       "      <td>10806.00000</td>\n",
       "      <td>10806.00000</td>\n",
       "      <td>10806.00000</td>\n",
       "      <td>3.904930e+09</td>\n",
       "      <td>4.500000e+05</td>\n",
       "      <td>3.000000</td>\n",
       "      <td>2.250000</td>\n",
       "      <td>1920.000000</td>\n",
       "      <td>7.618000e+03</td>\n",
       "      <td>1.500000</td>\n",
       "      <td>...</td>\n",
       "      <td>1560.000000</td>\n",
       "      <td>0.000000</td>\n",
       "      <td>1975.000000</td>\n",
       "      <td>0.000000</td>\n",
       "      <td>98065.000000</td>\n",
       "      <td>47.571800</td>\n",
       "      <td>-122.230000</td>\n",
       "      <td>1840.000000</td>\n",
       "      <td>7620.000000</td>\n",
       "      <td>47.000000</td>\n",
       "    </tr>\n",
       "    <tr>\n",
       "      <th>75%</th>\n",
       "      <td>16209.00000</td>\n",
       "      <td>16209.00000</td>\n",
       "      <td>16209.00000</td>\n",
       "      <td>7.308900e+09</td>\n",
       "      <td>6.450000e+05</td>\n",
       "      <td>4.000000</td>\n",
       "      <td>2.500000</td>\n",
       "      <td>2550.000000</td>\n",
       "      <td>1.068800e+04</td>\n",
       "      <td>2.000000</td>\n",
       "      <td>...</td>\n",
       "      <td>2210.000000</td>\n",
       "      <td>560.000000</td>\n",
       "      <td>1996.000000</td>\n",
       "      <td>0.000000</td>\n",
       "      <td>98118.000000</td>\n",
       "      <td>47.678000</td>\n",
       "      <td>-122.125000</td>\n",
       "      <td>2360.000000</td>\n",
       "      <td>10083.000000</td>\n",
       "      <td>71.000000</td>\n",
       "    </tr>\n",
       "    <tr>\n",
       "      <th>max</th>\n",
       "      <td>21612.00000</td>\n",
       "      <td>21612.00000</td>\n",
       "      <td>21612.00000</td>\n",
       "      <td>9.900000e+09</td>\n",
       "      <td>7.700000e+06</td>\n",
       "      <td>33.000000</td>\n",
       "      <td>8.000000</td>\n",
       "      <td>13540.000000</td>\n",
       "      <td>1.651359e+06</td>\n",
       "      <td>3.500000</td>\n",
       "      <td>...</td>\n",
       "      <td>9410.000000</td>\n",
       "      <td>4820.000000</td>\n",
       "      <td>2015.000000</td>\n",
       "      <td>2015.000000</td>\n",
       "      <td>98199.000000</td>\n",
       "      <td>47.777600</td>\n",
       "      <td>-121.315000</td>\n",
       "      <td>6210.000000</td>\n",
       "      <td>871200.000000</td>\n",
       "      <td>122.000000</td>\n",
       "    </tr>\n",
       "  </tbody>\n",
       "</table>\n",
       "<p>8 rows × 24 columns</p>\n",
       "</div>\n",
       "      <button class=\"colab-df-convert\" onclick=\"convertToInteractive('df-16a5ce92-8e84-4abd-a552-22b985bf26c7')\"\n",
       "              title=\"Convert this dataframe to an interactive table.\"\n",
       "              style=\"display:none;\">\n",
       "        \n",
       "  <svg xmlns=\"http://www.w3.org/2000/svg\" height=\"24px\"viewBox=\"0 0 24 24\"\n",
       "       width=\"24px\">\n",
       "    <path d=\"M0 0h24v24H0V0z\" fill=\"none\"/>\n",
       "    <path d=\"M18.56 5.44l.94 2.06.94-2.06 2.06-.94-2.06-.94-.94-2.06-.94 2.06-2.06.94zm-11 1L8.5 8.5l.94-2.06 2.06-.94-2.06-.94L8.5 2.5l-.94 2.06-2.06.94zm10 10l.94 2.06.94-2.06 2.06-.94-2.06-.94-.94-2.06-.94 2.06-2.06.94z\"/><path d=\"M17.41 7.96l-1.37-1.37c-.4-.4-.92-.59-1.43-.59-.52 0-1.04.2-1.43.59L10.3 9.45l-7.72 7.72c-.78.78-.78 2.05 0 2.83L4 21.41c.39.39.9.59 1.41.59.51 0 1.02-.2 1.41-.59l7.78-7.78 2.81-2.81c.8-.78.8-2.07 0-2.86zM5.41 20L4 18.59l7.72-7.72 1.47 1.35L5.41 20z\"/>\n",
       "  </svg>\n",
       "      </button>\n",
       "      \n",
       "  <style>\n",
       "    .colab-df-container {\n",
       "      display:flex;\n",
       "      flex-wrap:wrap;\n",
       "      gap: 12px;\n",
       "    }\n",
       "\n",
       "    .colab-df-convert {\n",
       "      background-color: #E8F0FE;\n",
       "      border: none;\n",
       "      border-radius: 50%;\n",
       "      cursor: pointer;\n",
       "      display: none;\n",
       "      fill: #1967D2;\n",
       "      height: 32px;\n",
       "      padding: 0 0 0 0;\n",
       "      width: 32px;\n",
       "    }\n",
       "\n",
       "    .colab-df-convert:hover {\n",
       "      background-color: #E2EBFA;\n",
       "      box-shadow: 0px 1px 2px rgba(60, 64, 67, 0.3), 0px 1px 3px 1px rgba(60, 64, 67, 0.15);\n",
       "      fill: #174EA6;\n",
       "    }\n",
       "\n",
       "    [theme=dark] .colab-df-convert {\n",
       "      background-color: #3B4455;\n",
       "      fill: #D2E3FC;\n",
       "    }\n",
       "\n",
       "    [theme=dark] .colab-df-convert:hover {\n",
       "      background-color: #434B5C;\n",
       "      box-shadow: 0px 1px 3px 1px rgba(0, 0, 0, 0.15);\n",
       "      filter: drop-shadow(0px 1px 2px rgba(0, 0, 0, 0.3));\n",
       "      fill: #FFFFFF;\n",
       "    }\n",
       "  </style>\n",
       "\n",
       "      <script>\n",
       "        const buttonEl =\n",
       "          document.querySelector('#df-16a5ce92-8e84-4abd-a552-22b985bf26c7 button.colab-df-convert');\n",
       "        buttonEl.style.display =\n",
       "          google.colab.kernel.accessAllowed ? 'block' : 'none';\n",
       "\n",
       "        async function convertToInteractive(key) {\n",
       "          const element = document.querySelector('#df-16a5ce92-8e84-4abd-a552-22b985bf26c7');\n",
       "          const dataTable =\n",
       "            await google.colab.kernel.invokeFunction('convertToInteractive',\n",
       "                                                     [key], {});\n",
       "          if (!dataTable) return;\n",
       "\n",
       "          const docLinkHtml = 'Like what you see? Visit the ' +\n",
       "            '<a target=\"_blank\" href=https://colab.research.google.com/notebooks/data_table.ipynb>data table notebook</a>'\n",
       "            + ' to learn more about interactive tables.';\n",
       "          element.innerHTML = '';\n",
       "          dataTable['output_type'] = 'display_data';\n",
       "          await google.colab.output.renderOutput(dataTable, element);\n",
       "          const docLink = document.createElement('div');\n",
       "          docLink.innerHTML = docLinkHtml;\n",
       "          element.appendChild(docLink);\n",
       "        }\n",
       "      </script>\n",
       "    </div>\n",
       "  </div>\n",
       "  "
      ],
      "text/plain": [
       "       Unnamed: 0.2  Unnamed: 0.1   Unnamed: 0            id         price  \\\n",
       "count   21613.00000   21613.00000  21613.00000  2.161300e+04  2.161300e+04   \n",
       "mean    10806.00000   10806.00000  10806.00000  4.580302e+09  5.401822e+05   \n",
       "std      6239.28002    6239.28002   6239.28002  2.876566e+09  3.673622e+05   \n",
       "min         0.00000       0.00000      0.00000  1.000102e+06  7.500000e+04   \n",
       "25%      5403.00000    5403.00000   5403.00000  2.123049e+09  3.219500e+05   \n",
       "50%     10806.00000   10806.00000  10806.00000  3.904930e+09  4.500000e+05   \n",
       "75%     16209.00000   16209.00000  16209.00000  7.308900e+09  6.450000e+05   \n",
       "max     21612.00000   21612.00000  21612.00000  9.900000e+09  7.700000e+06   \n",
       "\n",
       "           bedrooms     bathrooms   sqft_living      sqft_lot        floors  \\\n",
       "count  21613.000000  21613.000000  18528.000000  2.161300e+04  18530.000000   \n",
       "mean       3.367464      2.111900   2077.569031  1.510697e+04      1.492903   \n",
       "std        0.943028      0.780697    953.971679  4.142051e+04      0.538562   \n",
       "min       -5.000000     -5.000000 -33323.000000  5.200000e+02      1.000000   \n",
       "25%        3.000000      1.750000   1430.000000  5.040000e+03      1.000000   \n",
       "50%        3.000000      2.250000   1920.000000  7.618000e+03      1.500000   \n",
       "75%        4.000000      2.500000   2550.000000  1.068800e+04      2.000000   \n",
       "max       33.000000      8.000000  13540.000000  1.651359e+06      3.500000   \n",
       "\n",
       "       ...    sqft_above  sqft_basement      yr_built  yr_renovated  \\\n",
       "count  ...  21613.000000   21184.000000  18531.000000  21613.000000   \n",
       "mean   ...   1788.390691     292.121082   1970.896714     84.402258   \n",
       "std    ...    828.090978     442.637777     29.406420    401.679240   \n",
       "min    ...    290.000000       0.000000   1900.000000      0.000000   \n",
       "25%    ...   1190.000000       0.000000   1951.000000      0.000000   \n",
       "50%    ...   1560.000000       0.000000   1975.000000      0.000000   \n",
       "75%    ...   2210.000000     560.000000   1996.000000      0.000000   \n",
       "max    ...   9410.000000    4820.000000   2015.000000   2015.000000   \n",
       "\n",
       "            zipcode           lat          long  sqft_living15     sqft_lot15  \\\n",
       "count  21613.000000  21613.000000  21613.000000   21613.000000   21613.000000   \n",
       "mean   98077.939805     47.560053   -122.213896    1986.552492   12768.455652   \n",
       "std       53.505026      0.138564      0.140828     685.391304   27304.179631   \n",
       "min    98001.000000     47.155900   -122.519000     399.000000     651.000000   \n",
       "25%    98033.000000     47.471000   -122.328000    1490.000000    5100.000000   \n",
       "50%    98065.000000     47.571800   -122.230000    1840.000000    7620.000000   \n",
       "75%    98118.000000     47.678000   -122.125000    2360.000000   10083.000000   \n",
       "max    98199.000000     47.777600   -121.315000    6210.000000  871200.000000   \n",
       "\n",
       "          house_age  \n",
       "count  21613.000000  \n",
       "mean      50.994864  \n",
       "std       29.373411  \n",
       "min        7.000000  \n",
       "25%       25.000000  \n",
       "50%       47.000000  \n",
       "75%       71.000000  \n",
       "max      122.000000  \n",
       "\n",
       "[8 rows x 24 columns]"
      ]
     },
     "execution_count": 4,
     "metadata": {},
     "output_type": "execute_result"
    }
   ],
   "source": [
    "df = pd.read_csv ('house_data.csv')\n",
    "df.describe()"
   ]
  },
  {
   "cell_type": "code",
   "execution_count": 5,
   "metadata": {
    "colab": {
     "base_uri": "https://localhost:8080/",
     "height": 594
    },
    "id": "1RyWeMvJ3nsf",
    "outputId": "f80dcc4a-f88f-45f6-e9de-993975c674d6"
   },
   "outputs": [
    {
     "name": "stderr",
     "output_type": "stream",
     "text": [
      "<ipython-input-5-6c3bb3829928>:2: FutureWarning: The default value of numeric_only in DataFrame.corr is deprecated. In a future version, it will default to False. Select only valid columns or specify the value of numeric_only to silence this warning.\n",
      "  sns.heatmap(df.corr(), center=0, cmap='RdPu')\n"
     ]
    },
    {
     "data": {
      "text/plain": [
       "<Axes: >"
      ]
     },
     "execution_count": 5,
     "metadata": {},
     "output_type": "execute_result"
    },
    {
     "data": {
      "image/png": "[encoded data removed]",
      "text/plain": [
       "<Figure size 2000x1000 with 2 Axes>"
      ]
     },
     "metadata": {},
     "output_type": "display_data"
    }
   ],
   "source": [
    "fig, ax = plt.subplots(figsize=(20,10))\n",
    "sns.heatmap(df.corr(), center=0, cmap='RdPu')"
   ]
  },
  {
   "cell_type": "code",
   "execution_count": 6,
   "metadata": {
    "colab": {
     "base_uri": "https://localhost:8080/",
     "height": 317
    },
    "id": "ePj-4ACHsjU5",
    "outputId": "34e40805-7a78-4cf5-df00-c9b8b0a26351"
   },
   "outputs": [
    {
     "data": {
      "text/html": [
       "\n",
       "  <div id=\"df-1de9ad3f-79b0-4198-bde2-0cb48e35b680\">\n",
       "    <div class=\"colab-df-container\">\n",
       "      <div>\n",
       "<style scoped>\n",
       "    .dataframe tbody tr th:only-of-type {\n",
       "        vertical-align: middle;\n",
       "    }\n",
       "\n",
       "    .dataframe tbody tr th {\n",
       "        vertical-align: top;\n",
       "    }\n",
       "\n",
       "    .dataframe thead th {\n",
       "        text-align: right;\n",
       "    }\n",
       "</style>\n",
       "<table border=\"1\" class=\"dataframe\">\n",
       "  <thead>\n",
       "    <tr style=\"text-align: right;\">\n",
       "      <th></th>\n",
       "      <th>Unnamed: 0.2</th>\n",
       "      <th>Unnamed: 0.1</th>\n",
       "      <th>Unnamed: 0</th>\n",
       "      <th>id</th>\n",
       "      <th>date</th>\n",
       "      <th>price</th>\n",
       "      <th>bedrooms</th>\n",
       "      <th>bathrooms</th>\n",
       "      <th>sqft_living</th>\n",
       "      <th>sqft_lot</th>\n",
       "      <th>...</th>\n",
       "      <th>yr_built</th>\n",
       "      <th>yr_renovated</th>\n",
       "      <th>zipcode</th>\n",
       "      <th>lat</th>\n",
       "      <th>long</th>\n",
       "      <th>sqft_living15</th>\n",
       "      <th>sqft_lot15</th>\n",
       "      <th>location</th>\n",
       "      <th>style</th>\n",
       "      <th>house_age</th>\n",
       "    </tr>\n",
       "  </thead>\n",
       "  <tbody>\n",
       "    <tr>\n",
       "      <th>0</th>\n",
       "      <td>0</td>\n",
       "      <td>0</td>\n",
       "      <td>0</td>\n",
       "      <td>7129300520</td>\n",
       "      <td>20141013T000000</td>\n",
       "      <td>221900.0</td>\n",
       "      <td>3</td>\n",
       "      <td>1.00</td>\n",
       "      <td>1180.0</td>\n",
       "      <td>5650</td>\n",
       "      <td>...</td>\n",
       "      <td>1955.0</td>\n",
       "      <td>0</td>\n",
       "      <td>98178</td>\n",
       "      <td>47.5112</td>\n",
       "      <td>-122.257</td>\n",
       "      <td>1340</td>\n",
       "      <td>5650</td>\n",
       "      <td>Suburban</td>\n",
       "      <td>Contemporary</td>\n",
       "      <td>67</td>\n",
       "    </tr>\n",
       "    <tr>\n",
       "      <th>1</th>\n",
       "      <td>1</td>\n",
       "      <td>1</td>\n",
       "      <td>1</td>\n",
       "      <td>6414100192</td>\n",
       "      <td>20141209T000000</td>\n",
       "      <td>538000.0</td>\n",
       "      <td>3</td>\n",
       "      <td>2.25</td>\n",
       "      <td>2570.0</td>\n",
       "      <td>7242</td>\n",
       "      <td>...</td>\n",
       "      <td>NaN</td>\n",
       "      <td>1991</td>\n",
       "      <td>98125</td>\n",
       "      <td>47.7210</td>\n",
       "      <td>-122.319</td>\n",
       "      <td>1690</td>\n",
       "      <td>7639</td>\n",
       "      <td>Suburban</td>\n",
       "      <td>Ranch</td>\n",
       "      <td>71</td>\n",
       "    </tr>\n",
       "    <tr>\n",
       "      <th>2</th>\n",
       "      <td>2</td>\n",
       "      <td>2</td>\n",
       "      <td>2</td>\n",
       "      <td>5631500400</td>\n",
       "      <td>20150225T000000</td>\n",
       "      <td>180000.0</td>\n",
       "      <td>2</td>\n",
       "      <td>1.00</td>\n",
       "      <td>770.0</td>\n",
       "      <td>10000</td>\n",
       "      <td>...</td>\n",
       "      <td>1933.0</td>\n",
       "      <td>0</td>\n",
       "      <td>98028</td>\n",
       "      <td>47.7379</td>\n",
       "      <td>-122.233</td>\n",
       "      <td>2720</td>\n",
       "      <td>8062</td>\n",
       "      <td>Rural</td>\n",
       "      <td>Victorian</td>\n",
       "      <td>89</td>\n",
       "    </tr>\n",
       "    <tr>\n",
       "      <th>3</th>\n",
       "      <td>3</td>\n",
       "      <td>3</td>\n",
       "      <td>3</td>\n",
       "      <td>2487200875</td>\n",
       "      <td>20141209T000000</td>\n",
       "      <td>604000.0</td>\n",
       "      <td>4</td>\n",
       "      <td>3.00</td>\n",
       "      <td>1960.0</td>\n",
       "      <td>5000</td>\n",
       "      <td>...</td>\n",
       "      <td>1965.0</td>\n",
       "      <td>0</td>\n",
       "      <td>98136</td>\n",
       "      <td>47.5208</td>\n",
       "      <td>-122.393</td>\n",
       "      <td>1360</td>\n",
       "      <td>5000</td>\n",
       "      <td>Urban</td>\n",
       "      <td>Colonial</td>\n",
       "      <td>57</td>\n",
       "    </tr>\n",
       "    <tr>\n",
       "      <th>4</th>\n",
       "      <td>4</td>\n",
       "      <td>4</td>\n",
       "      <td>4</td>\n",
       "      <td>1954400510</td>\n",
       "      <td>20150218T000000</td>\n",
       "      <td>510000.0</td>\n",
       "      <td>3</td>\n",
       "      <td>2.00</td>\n",
       "      <td>1680.0</td>\n",
       "      <td>8080</td>\n",
       "      <td>...</td>\n",
       "      <td>1987.0</td>\n",
       "      <td>0</td>\n",
       "      <td>98074</td>\n",
       "      <td>47.6168</td>\n",
       "      <td>-122.045</td>\n",
       "      <td>1800</td>\n",
       "      <td>7503</td>\n",
       "      <td>Suburban</td>\n",
       "      <td>Cape Cod</td>\n",
       "      <td>35</td>\n",
       "    </tr>\n",
       "  </tbody>\n",
       "</table>\n",
       "<p>5 rows × 27 columns</p>\n",
       "</div>\n",
       "      <button class=\"colab-df-convert\" onclick=\"convertToInteractive('df-1de9ad3f-79b0-4198-bde2-0cb48e35b680')\"\n",
       "              title=\"Convert this dataframe to an interactive table.\"\n",
       "              style=\"display:none;\">\n",
       "        \n",
       "  <svg xmlns=\"http://www.w3.org/2000/svg\" height=\"24px\"viewBox=\"0 0 24 24\"\n",
       "       width=\"24px\">\n",
       "    <path d=\"M0 0h24v24H0V0z\" fill=\"none\"/>\n",
       "    <path d=\"M18.56 5.44l.94 2.06.94-2.06 2.06-.94-2.06-.94-.94-2.06-.94 2.06-2.06.94zm-11 1L8.5 8.5l.94-2.06 2.06-.94-2.06-.94L8.5 2.5l-.94 2.06-2.06.94zm10 10l.94 2.06.94-2.06 2.06-.94-2.06-.94-.94-2.06-.94 2.06-2.06.94z\"/><path d=\"M17.41 7.96l-1.37-1.37c-.4-.4-.92-.59-1.43-.59-.52 0-1.04.2-1.43.59L10.3 9.45l-7.72 7.72c-.78.78-.78 2.05 0 2.83L4 21.41c.39.39.9.59 1.41.59.51 0 1.02-.2 1.41-.59l7.78-7.78 2.81-2.81c.8-.78.8-2.07 0-2.86zM5.41 20L4 18.59l7.72-7.72 1.47 1.35L5.41 20z\"/>\n",
       "  </svg>\n",
       "      </button>\n",
       "      \n",
       "  <style>\n",
       "    .colab-df-container {\n",
       "      display:flex;\n",
       "      flex-wrap:wrap;\n",
       "      gap: 12px;\n",
       "    }\n",
       "\n",
       "    .colab-df-convert {\n",
       "      background-color: #E8F0FE;\n",
       "      border: none;\n",
       "      border-radius: 50%;\n",
       "      cursor: pointer;\n",
       "      display: none;\n",
       "      fill: #1967D2;\n",
       "      height: 32px;\n",
       "      padding: 0 0 0 0;\n",
       "      width: 32px;\n",
       "    }\n",
       "\n",
       "    .colab-df-convert:hover {\n",
       "      background-color: #E2EBFA;\n",
       "      box-shadow: 0px 1px 2px rgba(60, 64, 67, 0.3), 0px 1px 3px 1px rgba(60, 64, 67, 0.15);\n",
       "      fill: #174EA6;\n",
       "    }\n",
       "\n",
       "    [theme=dark] .colab-df-convert {\n",
       "      background-color: #3B4455;\n",
       "      fill: #D2E3FC;\n",
       "    }\n",
       "\n",
       "    [theme=dark] .colab-df-convert:hover {\n",
       "      background-color: #434B5C;\n",
       "      box-shadow: 0px 1px 3px 1px rgba(0, 0, 0, 0.15);\n",
       "      filter: drop-shadow(0px 1px 2px rgba(0, 0, 0, 0.3));\n",
       "      fill: #FFFFFF;\n",
       "    }\n",
       "  </style>\n",
       "\n",
       "      <script>\n",
       "        const buttonEl =\n",
       "          document.querySelector('#df-1de9ad3f-79b0-4198-bde2-0cb48e35b680 button.colab-df-convert');\n",
       "        buttonEl.style.display =\n",
       "          google.colab.kernel.accessAllowed ? 'block' : 'none';\n",
       "\n",
       "        async function convertToInteractive(key) {\n",
       "          const element = document.querySelector('#df-1de9ad3f-79b0-4198-bde2-0cb48e35b680');\n",
       "          const dataTable =\n",
       "            await google.colab.kernel.invokeFunction('convertToInteractive',\n",
       "                                                     [key], {});\n",
       "          if (!dataTable) return;\n",
       "\n",
       "          const docLinkHtml = 'Like what you see? Visit the ' +\n",
       "            '<a target=\"_blank\" href=https://colab.research.google.com/notebooks/data_table.ipynb>data table notebook</a>'\n",
       "            + ' to learn more about interactive tables.';\n",
       "          element.innerHTML = '';\n",
       "          dataTable['output_type'] = 'display_data';\n",
       "          await google.colab.output.renderOutput(dataTable, element);\n",
       "          const docLink = document.createElement('div');\n",
       "          docLink.innerHTML = docLinkHtml;\n",
       "          element.appendChild(docLink);\n",
       "        }\n",
       "      </script>\n",
       "    </div>\n",
       "  </div>\n",
       "  "
      ],
      "text/plain": [
       "   Unnamed: 0.2  Unnamed: 0.1  Unnamed: 0          id             date  \\\n",
       "0             0             0           0  7129300520  20141013T000000   \n",
       "1             1             1           1  6414100192  20141209T000000   \n",
       "2             2             2           2  5631500400  20150225T000000   \n",
       "3             3             3           3  2487200875  20141209T000000   \n",
       "4             4             4           4  1954400510  20150218T000000   \n",
       "\n",
       "      price  bedrooms  bathrooms  sqft_living  sqft_lot  ...  yr_built  \\\n",
       "0  221900.0         3       1.00       1180.0      5650  ...    1955.0   \n",
       "1  538000.0         3       2.25       2570.0      7242  ...       NaN   \n",
       "2  180000.0         2       1.00        770.0     10000  ...    1933.0   \n",
       "3  604000.0         4       3.00       1960.0      5000  ...    1965.0   \n",
       "4  510000.0         3       2.00       1680.0      8080  ...    1987.0   \n",
       "\n",
       "   yr_renovated  zipcode      lat     long  sqft_living15  sqft_lot15  \\\n",
       "0             0    98178  47.5112 -122.257           1340        5650   \n",
       "1          1991    98125  47.7210 -122.319           1690        7639   \n",
       "2             0    98028  47.7379 -122.233           2720        8062   \n",
       "3             0    98136  47.5208 -122.393           1360        5000   \n",
       "4             0    98074  47.6168 -122.045           1800        7503   \n",
       "\n",
       "   location         style  house_age  \n",
       "0  Suburban  Contemporary         67  \n",
       "1  Suburban         Ranch         71  \n",
       "2     Rural     Victorian         89  \n",
       "3     Urban      Colonial         57  \n",
       "4  Suburban      Cape Cod         35  \n",
       "\n",
       "[5 rows x 27 columns]"
      ]
     },
     "execution_count": 6,
     "metadata": {},
     "output_type": "execute_result"
    }
   ],
   "source": [
    "df.head()"
   ]
  },
  {
   "cell_type": "code",
   "execution_count": 7,
   "metadata": {
    "colab": {
     "base_uri": "https://localhost:8080/"
    },
    "id": "dx9pje3MJ0K3",
    "outputId": "b9762118-9c01-43b1-d782-e51911b8b078"
   },
   "outputs": [
    {
     "name": "stdout",
     "output_type": "stream",
     "text": [
      "<class 'pandas.core.frame.DataFrame'>\n",
      "RangeIndex: 21613 entries, 0 to 21612\n",
      "Data columns (total 27 columns):\n",
      " #   Column         Non-Null Count  Dtype  \n",
      "---  ------         --------------  -----  \n",
      " 0   Unnamed: 0.2   21613 non-null  int64  \n",
      " 1   Unnamed: 0.1   21613 non-null  int64  \n",
      " 2   Unnamed: 0     21613 non-null  int64  \n",
      " 3   id             21613 non-null  int64  \n",
      " 4   date           21613 non-null  object \n",
      " 5   price          21613 non-null  float64\n",
      " 6   bedrooms       21613 non-null  int64  \n",
      " 7   bathrooms      21613 non-null  float64\n",
      " 8   sqft_living    18528 non-null  float64\n",
      " 9   sqft_lot       21613 non-null  int64  \n",
      " 10  floors         18530 non-null  float64\n",
      " 11  waterfront     21613 non-null  int64  \n",
      " 12  view           21613 non-null  int64  \n",
      " 13  condition      21613 non-null  int64  \n",
      " 14  grade          21613 non-null  int64  \n",
      " 15  sqft_above     21613 non-null  int64  \n",
      " 16  sqft_basement  21184 non-null  float64\n",
      " 17  yr_built       18531 non-null  float64\n",
      " 18  yr_renovated   21613 non-null  int64  \n",
      " 19  zipcode        21613 non-null  int64  \n",
      " 20  lat            21613 non-null  float64\n",
      " 21  long           21613 non-null  float64\n",
      " 22  sqft_living15  21613 non-null  int64  \n",
      " 23  sqft_lot15     21613 non-null  int64  \n",
      " 24  location       21613 non-null  object \n",
      " 25  style          21613 non-null  object \n",
      " 26  house_age      21613 non-null  int64  \n",
      "dtypes: float64(8), int64(16), object(3)\n",
      "memory usage: 4.5+ MB\n"
     ]
    }
   ],
   "source": [
    "df.info()\n",
    "# standardizing_columns = ['popularity', 'acousticness', 'danceability', 'duration_ms', 'energy', \n",
    "#                          'instrumentalness', 'liveness', 'loudness', 'speechiness', 'tempo', 'valence']"
   ]
  },
  {
   "cell_type": "code",
   "execution_count": 8,
   "metadata": {
    "colab": {
     "base_uri": "https://localhost:8080/"
    },
    "id": "KFFzYT1AJ-fi",
    "outputId": "d331d383-524e-4da8-d9d7-face8186b507"
   },
   "outputs": [
    {
     "data": {
      "text/plain": [
       "Unnamed: 0.2        0\n",
       "Unnamed: 0.1        0\n",
       "Unnamed: 0          0\n",
       "id                  0\n",
       "date                0\n",
       "price               0\n",
       "bedrooms            0\n",
       "bathrooms           0\n",
       "sqft_living      3085\n",
       "sqft_lot            0\n",
       "floors           3083\n",
       "waterfront          0\n",
       "view                0\n",
       "condition           0\n",
       "grade               0\n",
       "sqft_above          0\n",
       "sqft_basement     429\n",
       "yr_built         3082\n",
       "yr_renovated        0\n",
       "zipcode             0\n",
       "lat                 0\n",
       "long                0\n",
       "sqft_living15       0\n",
       "sqft_lot15          0\n",
       "location            0\n",
       "style               0\n",
       "house_age           0\n",
       "dtype: int64"
      ]
     },
     "execution_count": 8,
     "metadata": {},
     "output_type": "execute_result"
    }
   ],
   "source": [
    "df.isnull().sum()"
   ]
  },
  {
   "cell_type": "code",
   "execution_count": 9,
   "metadata": {
    "id": "KhkYUCPvrXKQ"
   },
   "outputs": [],
   "source": [
    "df['style'].replace(['Contemporary', 'Ranch', 'Victorian', 'Colonial', 'Cape Cod'], [0, 1, 2, 3, 4], inplace = True)\n",
    "df['date'] = pd.to_datetime(df['date'], format = '%Y%m%dT%H%M%S')\n",
    "df['date'] = df['date'].astype(int)\n",
    "df['location'].replace(['Suburban', 'Rural', 'Urban'],[0,1, 2], inplace = True)"
   ]
  },
  {
   "cell_type": "code",
   "execution_count": 10,
   "metadata": {
    "id": "HcnuPVlyKbc-"
   },
   "outputs": [],
   "source": [
    "correlations = df.corr()['price']\n",
    "correlations = correlations.sort_values()"
   ]
  },
  {
   "cell_type": "code",
   "execution_count": 11,
   "metadata": {
    "colab": {
     "base_uri": "https://localhost:8080/"
    },
    "id": "-1jbw1U2tiAN",
    "outputId": "43586c87-e1db-4bf9-9998-c81c63cf3ab9"
   },
   "outputs": [
    {
     "name": "stdout",
     "output_type": "stream",
     "text": [
      "house_age       -0.053982\n",
      "zipcode         -0.053168\n",
      "id              -0.016797\n",
      "date            -0.004366\n",
      "style           -0.000507\n",
      "location         0.004330\n",
      "long             0.021571\n",
      "Unnamed: 0.2     0.027344\n",
      "Unnamed: 0.1     0.027344\n",
      "Unnamed: 0       0.027344\n",
      "condition        0.036392\n",
      "yr_built         0.054118\n",
      "sqft_lot15       0.082456\n",
      "sqft_lot         0.089655\n",
      "yr_renovated     0.126442\n",
      "floors           0.258603\n",
      "waterfront       0.266331\n",
      "bedrooms         0.304521\n",
      "lat              0.306919\n",
      "sqft_basement    0.321825\n",
      "grade            0.389227\n",
      "view             0.397346\n",
      "bathrooms        0.517952\n",
      "sqft_living15    0.585374\n",
      "sqft_above       0.605566\n",
      "sqft_living      0.676542\n",
      "price            1.000000\n",
      "Name: price, dtype: float64\n"
     ]
    }
   ],
   "source": [
    "print(correlations)"
   ]
  },
  {
   "cell_type": "code",
   "execution_count": 12,
   "metadata": {
    "colab": {
     "base_uri": "https://localhost:8080/",
     "height": 705
    },
    "id": "d66HnYePtrzZ",
    "outputId": "98d1517d-6cab-4bfc-c44d-53bfc61ab0dc"
   },
   "outputs": [
    {
     "name": "stderr",
     "output_type": "stream",
     "text": [
      "<ipython-input-12-6d2ca96e1d66>:4: UserWarning: FixedFormatter should only be used together with FixedLocator\n",
      "  ax.set_xticklabels(df.columns, rotation=90)\n"
     ]
    },
    {
     "data": {
      "image/png": "[encoded data removed]",
      "text/plain": [
       "<Figure size 1200x800 with 1 Axes>"
      ]
     },
     "metadata": {},
     "output_type": "display_data"
    }
   ],
   "source": [
    "# corr = df.corr()['price']\n",
    "fig, ax = plt.subplots(figsize=(12, 8))\n",
    "ax.bar(df.columns, df.corr()['price'])\n",
    "ax.set_xticklabels(df.columns, rotation=90)\n",
    "plt.show()"
   ]
  },
  {
   "cell_type": "code",
   "execution_count": 13,
   "metadata": {
    "colab": {
     "base_uri": "https://localhost:8080/",
     "height": 472
    },
    "id": "QqTN62kJ05Nt",
    "outputId": "da52422e-f1e0-44c7-82c7-ba48911650ac"
   },
   "outputs": [
    {
     "data": {
      "image/png": "[encoded data removed]",
      "text/plain": [
       "<Figure size 640x480 with 1 Axes>"
      ]
     },
     "metadata": {},
     "output_type": "display_data"
    }
   ],
   "source": [
    "plt.hist(df['sqft_living'], bins=1000 , range = [0, 10000]) #, range = [0, 10000]\n",
    "plt.title('Distribution of Values in sqft_living')\n",
    "plt.xlabel('sqft_living Values')\n",
    "plt.ylabel('Frequency')\n",
    "plt.show()"
   ]
  },
  {
   "cell_type": "code",
   "execution_count": 14,
   "metadata": {
    "colab": {
     "base_uri": "https://localhost:8080/",
     "height": 472
    },
    "id": "YQeYWI7v5GZ8",
    "outputId": "472183cb-5bbe-4ed4-ed85-3e208d55e3ad"
   },
   "outputs": [
    {
     "data": {
      "image/png": "[encoded data removed]",
      "text/plain": [
       "<Figure size 640x480 with 1 Axes>"
      ]
     },
     "metadata": {},
     "output_type": "display_data"
    }
   ],
   "source": [
    "plt.hist(df['sqft_above'], bins=1000)\n",
    "plt.title('Distribution of Values in sqft_above')\n",
    "plt.xlabel('sqft_above Values')\n",
    "plt.ylabel('Frequency')\n",
    "plt.show()"
   ]
  },
  {
   "cell_type": "code",
   "execution_count": 15,
   "metadata": {
    "colab": {
     "base_uri": "https://localhost:8080/",
     "height": 472
    },
    "id": "178MH63f9sQU",
    "outputId": "93982938-f4cc-4849-9561-f58e9f0703b4"
   },
   "outputs": [
    {
     "data": {
      "image/png": "[encoded data removed]",
      "text/plain": [
       "<Figure size 640x480 with 1 Axes>"
      ]
     },
     "metadata": {},
     "output_type": "display_data"
    }
   ],
   "source": [
    "plt.hist(df['sqft_living15'], bins=1000)\n",
    "plt.title('Distribution of Values in sqft_above')\n",
    "plt.xlabel('sqft_living15 Values')\n",
    "plt.ylabel('Frequency')\n",
    "plt.show()"
   ]
  },
  {
   "cell_type": "code",
   "execution_count": 16,
   "metadata": {
    "colab": {
     "base_uri": "https://localhost:8080/",
     "height": 465
    },
    "id": "-q6U-Ss95YYQ",
    "outputId": "05a2dc28-138e-48c1-b7b6-116e90350d38"
   },
   "outputs": [
    {
     "data": {
      "image/png": "[encoded data removed]",
      "text/plain": [
       "<Figure size 640x480 with 1 Axes>"
      ]
     },
     "metadata": {},
     "output_type": "display_data"
    }
   ],
   "source": [
    "plt.scatter(df['sqft_living'], df['price'])\n",
    "plt.xlabel('sqft_living')\n",
    "plt.ylabel('price')\n",
    "plt.show()"
   ]
  },
  {
   "cell_type": "code",
   "execution_count": 17,
   "metadata": {
    "colab": {
     "base_uri": "https://localhost:8080/",
     "height": 465
    },
    "id": "AC6Dqmsm9-h4",
    "outputId": "a8182016-2aed-4cfb-ccea-86945b894fa7"
   },
   "outputs": [
    {
     "data": {
      "image/png": "[encoded data removed]",
      "text/plain": [
       "<Figure size 640x480 with 1 Axes>"
      ]
     },
     "metadata": {},
     "output_type": "display_data"
    }
   ],
   "source": [
    "plt.scatter(df['sqft_living15'], df['price'])\n",
    "plt.xlabel('sqft_living15')\n",
    "plt.ylabel('price')\n",
    "plt.show()"
   ]
  },
  {
   "cell_type": "code",
   "execution_count": 18,
   "metadata": {
    "colab": {
     "base_uri": "https://localhost:8080/",
     "height": 465
    },
    "id": "M2-sGV0y6AT2",
    "outputId": "c105e562-d264-4343-9fe0-5afdc29bd797"
   },
   "outputs": [
    {
     "data": {
      "image/png": "[encoded data removed]",
      "text/plain": [
       "<Figure size 640x480 with 1 Axes>"
      ]
     },
     "metadata": {},
     "output_type": "display_data"
    }
   ],
   "source": [
    "plt.scatter(df['sqft_above'], df['price'])\n",
    "plt.xlabel('sqft_above')\n",
    "plt.ylabel('price')\n",
    "plt.show()"
   ]
  },
  {
   "cell_type": "code",
   "execution_count": 19,
   "metadata": {
    "colab": {
     "base_uri": "https://localhost:8080/",
     "height": 465
    },
    "id": "V4_yDtkc6ih-",
    "outputId": "372cdec4-4464-4566-943c-a2b47227e117"
   },
   "outputs": [
    {
     "data": {
      "image/png": "[encoded data removed]",
      "text/plain": [
       "<Figure size 640x480 with 2 Axes>"
      ]
     },
     "metadata": {},
     "output_type": "display_data"
    }
   ],
   "source": [
    "plt.hexbin(df['sqft_living'], df['price'], gridsize=20, cmap='Blues')\n",
    "plt.xlabel('sqft_living')\n",
    "plt.ylabel('Price')\n",
    "plt.colorbar()\n",
    "plt.show()"
   ]
  },
  {
   "cell_type": "code",
   "execution_count": 20,
   "metadata": {
    "colab": {
     "base_uri": "https://localhost:8080/",
     "height": 465
    },
    "id": "pTlrQnNF6tXt",
    "outputId": "0d7af40b-0d14-4239-ca91-01ea3e4475f4"
   },
   "outputs": [
    {
     "data": {
      "image/png": "[encoded data removed]",
      "text/plain": [
       "<Figure size 640x480 with 2 Axes>"
      ]
     },
     "metadata": {},
     "output_type": "display_data"
    }
   ],
   "source": [
    "plt.hexbin(df['sqft_above'], df['price'], gridsize=20, cmap='Blues')\n",
    "plt.xlabel('sqft_above')\n",
    "plt.ylabel('Price')\n",
    "plt.colorbar()\n",
    "plt.show()"
   ]
  },
  {
   "cell_type": "code",
   "execution_count": 21,
   "metadata": {
    "colab": {
     "base_uri": "https://localhost:8080/",
     "height": 465
    },
    "id": "JCt6k3D0-L72",
    "outputId": "54e53064-38ad-4621-bedf-b9ab6dbd38b2"
   },
   "outputs": [
    {
     "data": {
      "image/png": "[encoded data removed]",
      "text/plain": [
       "<Figure size 640x480 with 2 Axes>"
      ]
     },
     "metadata": {},
     "output_type": "display_data"
    }
   ],
   "source": [
    "plt.hexbin(df['sqft_living15'], df['price'], gridsize=20, cmap='Blues')\n",
    "plt.xlabel('sqft_living15')\n",
    "plt.ylabel('Price')\n",
    "plt.colorbar()\n",
    "plt.show()"
   ]
  },
  {
   "cell_type": "markdown",
   "metadata": {
    "id": "f8B0ruFaRsnw"
   },
   "source": [
    "# preprocessing:\n"
   ]
  },
  {
   "cell_type": "markdown",
   "metadata": {
    "id": "U5nccaEYSENo"
   },
   "source": [
    "## Q1:"
   ]
  },
  {
   "cell_type": "markdown",
   "metadata": {
    "id": "TJGkNdYyFg9z"
   },
   "source": [
    "Handling missing values in a dataset is an important step in machine learning as most algorithms cannot work with missing data. There are several ways to handle missing values, each with its own pros and cons:\n",
    "\n",
    "**Removal of missing values:**\n",
    "The simplest way to handle missing values is to remove rows or columns that contain missing data. The pros of this method are that it is simple and can be effective in cases where the amount of missing data is relatively small. However, the cons are that it can lead to a loss of information and may not be suitable for datasets with a large number of categorical missing values.\n",
    "\n",
    "**Imputation:**\n",
    "Imputation is the process of replacing missing values with estimated or predicted values. There are several methods for imputation, including mean imputation, median imputation, and regression imputation. The pros of imputation are that it can be more accurate than removal and can preserve more information in the dataset. However, the cons are that it can introduce bias into the dataset and may not be suitable for datasets with a large number of missing values.\n",
    "\n",
    "**Using a separate category:**\n",
    "In some cases, missing values can be treated as a separate category. For example, if a dataset contains information about car models and some models have missing data for the number of doors, the missing values can be treated as a separate category. The pros of this method are that it can preserve information about the missing data and may be useful in cases where the amount of missing data is small. However, the cons are that it can lead to a loss of information and may not be suitable for datasets with a large number of missing values.\n",
    "\n",
    "**Machine learning algorithms:**\n",
    "Some machine learning algorithms, such as decision trees and random forests, can handle missing data directly. These algorithms can use the available data to make predictions about the missing data. The pros of this method are that it can be more accurate than imputation and can preserve more information in the dataset. However, the cons are that it can be computationally expensive and may not be suitable for datasets with a large number of missing values."
   ]
  },
  {
   "cell_type": "markdown",
   "metadata": {
    "id": "z0Ql6Y1bSEtQ"
   },
   "source": [
    "## Q2:"
   ]
  },
  {
   "cell_type": "code",
   "execution_count": 22,
   "metadata": {
    "colab": {
     "base_uri": "https://localhost:8080/"
    },
    "id": "I5Ky6EH9WSC2",
    "outputId": "1201c197-7206-4d89-f6ca-52bcf4ef5a2c"
   },
   "outputs": [
    {
     "data": {
      "text/plain": [
       "Unnamed: 0.2        0\n",
       "Unnamed: 0.1        0\n",
       "Unnamed: 0          0\n",
       "id                  0\n",
       "date                0\n",
       "price               0\n",
       "bedrooms            0\n",
       "bathrooms           0\n",
       "sqft_living      3085\n",
       "sqft_lot            0\n",
       "floors           3083\n",
       "waterfront          0\n",
       "view                0\n",
       "condition           0\n",
       "grade               0\n",
       "sqft_above          0\n",
       "sqft_basement     429\n",
       "yr_built         3082\n",
       "yr_renovated        0\n",
       "zipcode             0\n",
       "lat                 0\n",
       "long                0\n",
       "sqft_living15       0\n",
       "sqft_lot15          0\n",
       "location            0\n",
       "style               0\n",
       "house_age           0\n",
       "dtype: int64"
      ]
     },
     "execution_count": 22,
     "metadata": {},
     "output_type": "execute_result"
    }
   ],
   "source": [
    "df.isnull().sum()"
   ]
  },
  {
   "cell_type": "markdown",
   "metadata": {
    "id": "RiPzim_bNfMS"
   },
   "source": [
    "In this case all missing values are numeric so we can use imputation (mean)"
   ]
  },
  {
   "cell_type": "code",
   "execution_count": 23,
   "metadata": {
    "id": "v6eivKNUT9wk"
   },
   "outputs": [],
   "source": [
    "df['sqft_living'].fillna((df['sqft_living'].mean()), inplace = True)\n",
    "df['floors'].fillna((int(df['floors'].mean())), inplace = True)\n",
    "df['yr_built'].fillna(((df['yr_built'].mean())), inplace = True)\n",
    "df['sqft_basement'].fillna((df['sqft_basement'].mean()), inplace = True)"
   ]
  },
  {
   "cell_type": "code",
   "execution_count": 24,
   "metadata": {
    "colab": {
     "base_uri": "https://localhost:8080/"
    },
    "id": "22Ib2xiyUSGq",
    "outputId": "c1b5894e-af8b-4fe5-db5f-099dfca5b1c1"
   },
   "outputs": [
    {
     "data": {
      "text/plain": [
       "Unnamed: 0.2     0\n",
       "Unnamed: 0.1     0\n",
       "Unnamed: 0       0\n",
       "id               0\n",
       "date             0\n",
       "price            0\n",
       "bedrooms         0\n",
       "bathrooms        0\n",
       "sqft_living      0\n",
       "sqft_lot         0\n",
       "floors           0\n",
       "waterfront       0\n",
       "view             0\n",
       "condition        0\n",
       "grade            0\n",
       "sqft_above       0\n",
       "sqft_basement    0\n",
       "yr_built         0\n",
       "yr_renovated     0\n",
       "zipcode          0\n",
       "lat              0\n",
       "long             0\n",
       "sqft_living15    0\n",
       "sqft_lot15       0\n",
       "location         0\n",
       "style            0\n",
       "house_age        0\n",
       "dtype: int64"
      ]
     },
     "execution_count": 24,
     "metadata": {},
     "output_type": "execute_result"
    }
   ],
   "source": [
    "df.isnull().sum()\n"
   ]
  },
  {
   "cell_type": "markdown",
   "metadata": {
    "id": "xHP7jC80R0cf"
   },
   "source": [
    "## Q3: \n"
   ]
  },
  {
   "cell_type": "markdown",
   "metadata": {
    "id": "s9O3cnhZWrRK"
   },
   "source": [
    "By normalizing or standardizing the features, we can avoid the situation where one feature has a much larger range of values than another feature, which can cause some machine learning algorithms to be biased towards the larger feature. Normalizing or standardizing the features can also help to speed up the convergence of some machine learning algorithms during training. However, it is important to note that normalization or standardization can also have negative effects on the performance of some machine learning algorithms, especially if the distribution of the data is highly skewed or if there are outliers in the data. Therefore, it is recommended to experiment with both normalized and unnormalized data to determine which preprocessing method works best for a particular problem.\n",
    "Since we have gaussian distribution for columns, we can standardize."
   ]
  },
  {
   "cell_type": "code",
   "execution_count": 25,
   "metadata": {
    "id": "7gXOfIKk7NaB"
   },
   "outputs": [],
   "source": [
    "standardizing_columns = ['yr_built', 'date', 'price', 'bedrooms', 'bathrooms', \n",
    "                         'sqft_living', 'floors', 'waterfront', 'view', 'zipcode', 'grade', 'sqft_above', 'sqft_basement', 'sqft_living15']\n",
    "def standardize(df, columns):\n",
    "    result = df.copy()\n",
    "    for col in columns:\n",
    "        result[col] = (result[col] - result[col].mean()) / result[col].std()\n",
    "        # result[col] /= result[col].sum()\n",
    "    return result\n",
    "\n",
    "df = standardize(df, standardizing_columns)"
   ]
  },
  {
   "cell_type": "markdown",
   "metadata": {
    "id": "AjTP5fQDcO0Y"
   },
   "source": [
    "## Q4:"
   ]
  },
  {
   "cell_type": "markdown",
   "metadata": {
    "id": "K-QPyPJncfzU"
   },
   "source": [
    "\n",
    "\n",
    "**Label Encoding :** Label Encoding is a popular encoding technique for handling categorical variables. In this technique, each label is assigned a unique integer.\n",
    "\n",
    "**One-Hot Encoding :** One-Hot Encoding is another popular technique for treating categorical variables. It simply creates additional features based on the number of unique values in the categorical feature. Every unique value in the category will be added as a feature.\n",
    "\n",
    "Here we used Label encoding(before finding correlations)\n"
   ]
  },
  {
   "cell_type": "code",
   "execution_count": 25,
   "metadata": {
    "id": "M8vNHy2684gS"
   },
   "outputs": [],
   "source": []
  },
  {
   "cell_type": "markdown",
   "metadata": {
    "id": "lMQwdwHAcUuV"
   },
   "source": [
    "## Q5:"
   ]
  },
  {
   "cell_type": "markdown",
   "metadata": {
    "id": "1cXaFnhr5c56"
   },
   "source": [
    "Yes there are some columns that have low correlations with price and that has negative impact on the . And some of them are simply indexes."
   ]
  },
  {
   "cell_type": "code",
   "execution_count": 26,
   "metadata": {
    "colab": {
     "base_uri": "https://localhost:8080/"
    },
    "id": "L5iVz2QOA-5T",
    "outputId": "47b82b8a-db30-4575-f19f-0c39ce894636"
   },
   "outputs": [
    {
     "name": "stdout",
     "output_type": "stream",
     "text": [
      "house_age       -0.053982\n",
      "zipcode         -0.053168\n",
      "id              -0.016797\n",
      "date            -0.004366\n",
      "style           -0.000507\n",
      "location         0.004330\n",
      "long             0.021571\n",
      "Unnamed: 0.2     0.027344\n",
      "Unnamed: 0.1     0.027344\n",
      "Unnamed: 0       0.027344\n",
      "condition        0.036392\n",
      "yr_built         0.054118\n",
      "sqft_lot15       0.082456\n",
      "sqft_lot         0.089655\n",
      "yr_renovated     0.126442\n",
      "floors           0.258603\n",
      "waterfront       0.266331\n",
      "bedrooms         0.304521\n",
      "lat              0.306919\n",
      "sqft_basement    0.321825\n",
      "grade            0.389227\n",
      "view             0.397346\n",
      "bathrooms        0.517952\n",
      "sqft_living15    0.585374\n",
      "sqft_above       0.605566\n",
      "sqft_living      0.676542\n",
      "price            1.000000\n",
      "Name: price, dtype: float64\n"
     ]
    }
   ],
   "source": [
    "print(correlations)"
   ]
  },
  {
   "cell_type": "code",
   "execution_count": 27,
   "metadata": {
    "id": "l6a7C5zH6AhZ"
   },
   "outputs": [],
   "source": [
    "to_drop = ['Unnamed: 0.2','id', 'Unnamed: 0.1', 'Unnamed: 0', 'location', 'id', 'date', 'sqft_lot', 'sqft_lot15', 'house_age']\n",
    "df.drop(to_drop, axis=1, inplace=True)"
   ]
  },
  {
   "cell_type": "markdown",
   "metadata": {
    "id": "zZsV3Y-wcZpb"
   },
   "source": [
    "## Q6: "
   ]
  },
  {
   "cell_type": "markdown",
   "metadata": {
    "id": "x79lz6jY-H7F"
   },
   "source": [
    "The decision of the train/test data split ratio depends on various factors such as the size of the dataset, the complexity of the problem, and the availability of data. However, a common practice is to use a split ratio of 70/30 or 80/20 for train/test data, where 70% or 80% of the data is used for training and the remaining 30% or 20% is used for testing. It is important to have a sufficiently large training set to effectively learn the patterns in the data, while also having a reasonable-sized test set to evaluate the performance of the model. Adjustments to the split ratio can be made based on specific considerations and requirements of the problem at hand."
   ]
  },
  {
   "cell_type": "code",
   "execution_count": 28,
   "metadata": {
    "id": "Sd1g9WFGHHgh"
   },
   "outputs": [],
   "source": [
    "test_size = 0.2\n",
    "x = df.drop('price', axis=1)\n",
    "y = df['price']  \n",
    "train_df, test_df, train_labels, test_labels = train_test_split(x, y, test_size=0.2, random_state=42)\n"
   ]
  },
  {
   "cell_type": "markdown",
   "metadata": {
    "id": "_BRRqSw6cb00"
   },
   "source": [
    "## Q7:"
   ]
  },
  {
   "cell_type": "markdown",
   "metadata": {
    "id": "yV_TdC8_VT76"
   },
   "source": [
    "This subset of data is used to evaluate the model's performance during training. It helps in tuning the hyperparameters of the model and selecting the best-performing model among different variants. The validation data provides an unbiased estimate of the model's performance, as it is separate from the training data."
   ]
  },
  {
   "cell_type": "markdown",
   "metadata": {
    "id": "wgj-rwNggXe4"
   },
   "source": [
    "# Phase 1: Linear Regression"
   ]
  },
  {
   "cell_type": "markdown",
   "metadata": {
    "id": "b-TMX5-kgXe7"
   },
   "source": [
    "Main form of simple linear regression function: \n",
    "$$f(x) = \\alpha x + \\beta$$\n",
    "\n",
    "here we want to find the intercept($\\alpha$) and slope($\\beta$) by minimizing the derivation of the RSS function:\n",
    "\n",
    "- step 1: Compute RSS of the training data  \n",
    "\n",
    "$$ RSS = \\Sigma (y_i - (\\hat{\\beta} + \\hat{\\alpha} * x_i) )^2 $$\n",
    "\n",
    "- step 2: Compute the derivatives of the RSS function in term of $\\underline{\\alpha}$ and $\\underline{\\beta}$, and set them equal to 0 to find the desired parameters\n",
    "\n",
    "$$ \\frac{\\partial RSS}{\\partial \\beta} = \\Sigma (-f(x_i) + \\hat{\\beta} + \\hat{\\alpha} * x_i) = 0$$\n",
    "$$ \\to \\hat{\\beta} = \\hat{y} - \\hat{\\alpha} \\hat{x} \\to (1)$$\n",
    "\n",
    "\n",
    "$$ \\frac{\\partial RSS}{\\partial \\alpha} = \\Sigma (-2 x_i y_i + 2 \\hat{\\beta} x_i + 2\\hat{\\alpha} x_i ^ 2) = 0 \\to (2)$$\n",
    "\n",
    "$$ (1) , (2) \\to \\hat{\\alpha} = \\frac{\\Sigma{(x_i - \\hat{x})(y_i - \\hat{y})}}{\\Sigma{(x_i - \\hat{x})^2}}\n",
    "$$ \n",
    "$$ \\hat{\\beta} = \\hat{y} - \\hat{\\alpha} \\hat{x}$$\n",
    "\n"
   ]
  },
  {
   "cell_type": "markdown",
   "metadata": {
    "id": "1CaNMqbNXVQj"
   },
   "source": [
    "## Q1:"
   ]
  },
  {
   "cell_type": "markdown",
   "metadata": {
    "id": "qBSmIgIqYJe9"
   },
   "source": [
    "y = beta - alpha * x\n",
    "where y is dependent value and x is independent value. Alpha is slope and beta is intercept (value of y when x=0)\n",
    "The goal of linear regression is to estimate the values of slope and intercept that minimize the sum of squared errors (residuals) between the predicted values and the actual values of y."
   ]
  },
  {
   "cell_type": "markdown",
   "metadata": {
    "id": "kpk-Uz87XZNU"
   },
   "source": [
    "## Q2:"
   ]
  },
  {
   "cell_type": "markdown",
   "metadata": {
    "id": "Z0keRrxnjQuv"
   },
   "source": [
    "In this case we should choose a feature with the highest correlation. (sqft_living)"
   ]
  },
  {
   "cell_type": "markdown",
   "metadata": {
    "id": "GdPAhX3KgXe9"
   },
   "source": [
    "Based on the formula above, complete this function to compute the parameters of a simple linear regression"
   ]
  },
  {
   "cell_type": "code",
   "execution_count": 29,
   "metadata": {
    "id": "WiBbu2fagXfB"
   },
   "outputs": [],
   "source": [
    "def simple_linear_regression(input_feature, output):\n",
    "    # Compute the sum of input_feature and output\n",
    "    x_sum = sum(input_feature)\n",
    "    y_sum = sum(output)\n",
    "    n = len(input_feature)\n",
    "\n",
    "    # Compute the product of the output and the input_feature and its sum\n",
    "    # xy_sum = sum([x*y for x,y in zip(input_feature, output)])\n",
    "    xi_xMean = input_feature - (x_sum/n)\n",
    "    yi_yMean = output - (y_sum/n)\n",
    "    soorat_slope = sum([x*y for x,y in zip(xi_xMean, yi_yMean)])\n",
    "    makhraj_slope = sum([x*y for x,y in zip(xi_xMean, xi_xMean)])\n",
    "    # Compute the squared value of the input_feature and its sum\n",
    "    # x_squared_sum = sum([x**2 for x in input_feature])\n",
    "    \n",
    "    # Use the formula for the slope\n",
    "    \n",
    "    # slope = (n*xy_sum - x_sum*y_sum)/(n*x_squared_sum - x_sum**2)\n",
    "    slope = soorat_slope/makhraj_slope\n",
    "    # Use the formula for the intercept\n",
    "    intercept = (y_sum - slope*x_sum)/n\n",
    "    \n",
    "    return (intercept, slope)"
   ]
  },
  {
   "cell_type": "markdown",
   "metadata": {
    "id": "ihT-a1dvgXfE"
   },
   "source": [
    "Now complete this function to predict the value of given data based on the calculated intercept and slope"
   ]
  },
  {
   "cell_type": "code",
   "execution_count": 30,
   "metadata": {
    "id": "YwHcast_gXfF"
   },
   "outputs": [],
   "source": [
    "def get_regression_predictions(input_feature, intercept, slope):\n",
    "    # TO DO:\n",
    "\n",
    "    # calculate the predicted values:\n",
    "    predicted_values = intercept + slope * input_feature\n",
    "    \n",
    "    return (predicted_values)"
   ]
  },
  {
   "cell_type": "markdown",
   "metadata": {
    "id": "SgIG_oJggXfF"
   },
   "source": [
    "Now that we have a model and can make predictions let's evaluate our model using Root Mean Square Error (RSME). RMSE is the square root of the mean of the squared differences between the residuals and the residuals is just a fancy word for the difference between the predicted output and the true output.\n",
    "\n",
    "Complete the following function to compute the RSME of a simple linear regression model given the input_feature, output, intercept and slope:"
   ]
  },
  {
   "cell_type": "code",
   "execution_count": 31,
   "metadata": {
    "id": "aFSnPatrgXfG"
   },
   "outputs": [],
   "source": [
    "def get_root_mean_square_error(predicted_values , output):\n",
    "    # TO DO:\n",
    "\n",
    "    # Compute the residuals (since we are squaring it doesn't matter which order you subtract)\n",
    "    residuals = output - predicted_values\n",
    "    # square the residuals and add them up\n",
    "    squared_residuals = residuals ** 2\n",
    "    sum_squared_residuals = squared_residuals.sum()\n",
    "    \n",
    "    # find the mean of the above phrase\n",
    "    mean_squared_residuals = sum_squared_residuals / float(len(predicted_values))\n",
    "    \n",
    "    # calculate the root\n",
    "    RMSE = mean_squared_residuals ** 0.5\n",
    "    return(RMSE)"
   ]
  },
  {
   "cell_type": "markdown",
   "metadata": {
    "id": "VY_28bJFgXfH"
   },
   "source": [
    "AS you might guessed, the RMSE has no bound and it is not easy to find out the percentage of fitting the model into data with it. instead, we use R2 score. The R2 score is calculated by comparing the sum of the squared differences between the actual and predicted values of the dependent variable to the total sum of squared differences between the actual and mean values of the dependent variable. Matematically, the R2 score formula is shown as follows:\n",
    "\n",
    "$$R^2 = 1 - \\frac{SSres}{SStot} = 1 - \\frac{\\sum_{i=1}^{n} (y_{i,true} - y_{i,pred})^2}{\\sum_{i=1}^{n} (y_{i,true} - \\bar{y}_{true})^2} $$"
   ]
  },
  {
   "cell_type": "markdown",
   "metadata": {
    "id": "-Qpx03GxgXfH"
   },
   "source": [
    "In this step, complete the following function to calculate the R2 score of a given input_feature, output, intercept, and slope:"
   ]
  },
  {
   "cell_type": "code",
   "execution_count": 32,
   "metadata": {
    "id": "_5hIou1AgXfJ"
   },
   "outputs": [],
   "source": [
    "def get_r2_score(predicted_values, output):\n",
    "    # TO DO:\n",
    "    y_mean = output.mean()\n",
    "    # then compute the residuals (since we are squaring it doesn't matter which order you subtract)\n",
    "    residuals = output - predicted_values\n",
    "    # square the residuals and add them up -> SSres\n",
    "    ss_res = (residuals ** 2).sum()\n",
    "    # compute the SStot\n",
    "    ss_tot = ((output - y_mean) ** 2).sum()\n",
    "    # compute the R2 score value\n",
    "    R2_score = 1 - (ss_res / ss_tot)\n",
    "    return(R2_score)"
   ]
  },
  {
   "cell_type": "markdown",
   "metadata": {
    "id": "1i90h7gugXfJ"
   },
   "source": [
    "Now calculate the fitness of the model and explain the outputs"
   ]
  },
  {
   "cell_type": "code",
   "execution_count": 33,
   "metadata": {
    "id": "95gXS-NcFEfX"
   },
   "outputs": [],
   "source": [
    "# intercept, slope =  simple_linear_regression(train_df['sqft_living'], train_labels)\n",
    "\n",
    "# predicted_values = get_regression_predictions(test_df[\"yr_built\"], intercept, slope)\n",
    "# predicted_values"
   ]
  },
  {
   "cell_type": "code",
   "execution_count": 34,
   "metadata": {
    "id": "XyK1qCTqFRkx"
   },
   "outputs": [],
   "source": [
    "# test_labels"
   ]
  },
  {
   "cell_type": "code",
   "execution_count": 35,
   "metadata": {
    "colab": {
     "base_uri": "https://localhost:8080/"
    },
    "id": "QlpgW1c5gXfK",
    "outputId": "9b26e293-5161-4b47-a42d-8ce01475b511"
   },
   "outputs": [
    {
     "name": "stdout",
     "output_type": "stream",
     "text": [
      "\n",
      "*** Feature: sqft_living\n",
      "RSME: 0.8132090462533823\n",
      "R2: 0.4103456715899553\n",
      "\n",
      "*** Feature: yr_built\n",
      "RSME: 1.057674902555495\n",
      "R2: 0.0025354106866073423\n",
      "\n",
      "*** Feature: grade\n",
      "RSME: 0.9392686929539527\n",
      "R2: 0.2133658751753429\n",
      "\n",
      "*** Feature: zipcode\n",
      "RSME: 1.0581070201093028\n",
      "R2: 0.0017202074417838054\n"
     ]
    }
   ],
   "source": [
    "# TO DO:\n",
    "# *** Feature: sqft_living\n",
    "# RSME: 278486.7309615027\n",
    "# R2 Score: 0.5030774643470592\n",
    "\n",
    "\n",
    "# *** Feature: yr_built\n",
    "# RSME: 394479.29909522476\n",
    "# R2 Score: 0.0029243415438844345\n",
    "\n",
    "\n",
    "# *** Feature: grade\n",
    "# RSME: 295063.27608339675\n",
    "# R2 Score: 0.4421595553496108\n",
    "\n",
    "\n",
    "# *** Feature: zipcode\n",
    "# RSME: 394421.8467068397\n",
    "# R2 Score: 0.00321475073205324\n",
    "\n",
    "designated_feature_list = ['sqft_living' , 'yr_built' , 'grade' , 'zipcode']\n",
    "\n",
    "for feature in designated_feature_list:\n",
    "    intercept, slope =  simple_linear_regression(train_df[feature], train_labels)\n",
    "    predicted_values = get_regression_predictions(test_df[feature], intercept, slope)\n",
    "    \n",
    "    rsme = get_root_mean_square_error(predicted_values , test_labels)\n",
    "    r2 = get_r2_score(predicted_values, test_labels)\n",
    "    print(f\"\\n*** Feature: {feature}\")\n",
    "    print(f\"RSME: {rsme}\")\n",
    "    print(f\"R2: {r2}\")"
   ]
  },
  {
   "cell_type": "markdown",
   "metadata": {
    "id": "skAO_NLVi2he"
   },
   "source": [
    "In this example, we can see that 'sqft_living' and 'grade' have higher R2 scores and lower RMSEs compared to 'yr_built' and 'zipcode', indicating that they may be better predictors of the target variable."
   ]
  },
  {
   "cell_type": "markdown",
   "metadata": {
    "id": "u2ZyAJMLbh-5"
   },
   "source": [
    "**RSS method:**\n",
    "RSS stands for Residual Sum of Squares, and it is a method used in linear regression to measure the overall fit of the regression model to the observed data.\n",
    "\n",
    "The RSS is calculated by taking the sum of the squared differences between the predicted values of the dependent variable (y) and the actual observed values (ŷ). In other words, it measures the sum of the squared residuals, which are the differences between the predicted and observed values.\n",
    "\n",
    "The RSS is used as a measure of the variability or the amount of unexplained variation in the dependent variable that is not captured by the linear regression model. The goal of linear regression is to minimize the RSS by finding the best-fitting line that minimizes the squared differences between the predicted and observed values.\n",
    "\n",
    "Minimizing the RSS helps to find the optimal values for the intercept and slope of the regression line, which provides the best fit to the data. By minimizing the RSS, the linear regression model is able to explain as much of the variation in the dependent variable as possible based on the given independent variables.\n",
    "\n",
    "**RMSE method:**\n",
    "\n",
    "RMSE stands for Root Mean Square Error, which is a commonly used metric to evaluate the performance of a regression model. It measures the average squared difference between the predicted values and the actual values. The steps to calculate RMSE are as follows:\n",
    "\n",
    "Compute the residuals by subtracting the predicted values from the actual values.\n",
    "Square the residuals and sum them up.\n",
    "Find the mean of the squared residuals.\n",
    "Take the square root of the mean squared error to obtain the RMSE value.\n",
    "\n",
    "RMSE provides a measure of how well the regression model fits the data, with lower RMSE indicating better fit. It helps to assess the accuracy of the predictions made by the model.\n",
    "\n",
    "** R2:**\n",
    "R2, also known as the coefficient of determination, is a statistical measure used in machine learning to evaluate the performance of a regression model. It represents the proportion of the variance in the dependent variable that can be explained by the independent variables in the model.\n",
    "\n",
    "R2 value ranges from 0 to 1 and can also be expressed as a percentage. A higher R2 value indicates that a larger proportion of the variance in the target variable is explained by the model, suggesting a better fit.\n",
    "\n",
    "Mathematically, R2 is calculated as:\n",
    "\n",
    "R2 = 1 - (RSS / TSS)"
   ]
  },
  {
   "cell_type": "markdown",
   "metadata": {
    "id": "eBzfiqzscmun"
   },
   "source": [
    "# Phase 2:"
   ]
  },
  {
   "cell_type": "code",
   "execution_count": 36,
   "metadata": {
    "colab": {
     "base_uri": "https://localhost:8080/"
    },
    "id": "VKUHrMfj-sfI",
    "outputId": "42471c50-5fcd-4ec3-dc3a-02708900bb33"
   },
   "outputs": [
    {
     "data": {
      "text/plain": [
       "-0.24548565695382554"
      ]
     },
     "execution_count": 36,
     "metadata": {},
     "output_type": "execute_result"
    }
   ],
   "source": [
    "price_median =  df['price'].median()\n",
    "df['price_level'] = ['HIGH' if price > price_median else 'LOW' for price in df['price']]\n",
    "price_median"
   ]
  },
  {
   "cell_type": "code",
   "execution_count": 37,
   "metadata": {
    "id": "dveiKmLEzZje"
   },
   "outputs": [],
   "source": [
    "X = df.drop('price_level', axis = 1)\n",
    "Y = df['price_level']"
   ]
  },
  {
   "cell_type": "code",
   "execution_count": 38,
   "metadata": {
    "id": "cbFZH7WIe_HW"
   },
   "outputs": [],
   "source": [
    "test_size = 0.2  \n",
    "train_df, test_df, train_labels, test_labels = train_test_split(X, Y, test_size=0.2, random_state=42)\n",
    "train_df = train_df.drop('price', axis = 1)\n",
    "test_df = test_df.drop('price', axis = 1)"
   ]
  },
  {
   "cell_type": "code",
   "execution_count": 39,
   "metadata": {
    "id": "BA8RqG33BX-B"
   },
   "outputs": [],
   "source": [
    "from sklearn.tree import DecisionTreeClassifier\n",
    "from sklearn.model_selection import GridSearchCV\n",
    "from sklearn.metrics import accuracy_score"
   ]
  },
  {
   "cell_type": "markdown",
   "metadata": {
    "id": "rjvtqrPzdFPo"
   },
   "source": [
    "## Decision tree:"
   ]
  },
  {
   "cell_type": "code",
   "execution_count": 40,
   "metadata": {
    "colab": {
     "base_uri": "https://localhost:8080/"
    },
    "id": "qI3m8Rmoc-PA",
    "outputId": "a3185fa8-0196-4d08-fb3b-efdc770d76f0"
   },
   "outputs": [
    {
     "name": "stdout",
     "output_type": "stream",
     "text": [
      "Test Accuracy: 0.8653712699514227\n",
      "Train Accuracy:  0.9996529786003471\n"
     ]
    }
   ],
   "source": [
    "# Create an instance of DecisionTreeClassifier\n",
    "clf = DecisionTreeClassifier()\n",
    "# Fit the model to the training data\n",
    "clf.fit(train_df, train_labels)\n",
    "# Make predictions on the test data\n",
    "y_pred = clf.predict(test_df)\n",
    "y_train_pred = clf.predict(train_df)\n",
    "# Calculate the accuracy\n",
    "# accuracy = accuracy_score(test_labels, y_pred)\n",
    "accuracy = accuracy_score(test_labels, y_pred)\n",
    "train_accuracy = accuracy_score(train_labels, y_train_pred)\n",
    "print(\"Test Accuracy:\", accuracy)\n",
    "print(\"Train Accuracy: \", train_accuracy)"
   ]
  },
  {
   "cell_type": "code",
   "execution_count": 41,
   "metadata": {
    "colab": {
     "base_uri": "https://localhost:8080/"
    },
    "id": "GWkqSyoltXpL",
    "outputId": "67afe94b-5b4d-45af-acf9-908d604b44e4"
   },
   "outputs": [
    {
     "name": "stdout",
     "output_type": "stream",
     "text": [
      "Test Accuracy: 0.8797131621559102\n",
      "Train Accuracy:  0.8946211683053789\n"
     ]
    }
   ],
   "source": [
    "clf = DecisionTreeClassifier()\n",
    "param_grid = {\n",
    "    'max_depth': [3, 5, 7],\n",
    "    'min_samples_split': [2, 5, 10],\n",
    "    'min_samples_leaf': [1, 3, 5]\n",
    "}\n",
    "grid_search = GridSearchCV(clf, param_grid, cv=5)\n",
    "grid_search.fit(train_df, train_labels)\n",
    "best_estimator = grid_search.best_estimator_\n",
    "best_params = grid_search.best_params_\n",
    "y_pred = best_estimator.predict(test_df)\n",
    "y_train_pred = best_estimator.predict(train_df)\n",
    "accuracy = accuracy_score(test_labels, y_pred)\n",
    "train_accuracy = accuracy_score(train_labels, y_train_pred)\n",
    "print(\"Test Accuracy:\", accuracy)\n",
    "print(\"Train Accuracy: \", train_accuracy)"
   ]
  },
  {
   "cell_type": "code",
   "execution_count": 41,
   "metadata": {
    "id": "nfMnZU9EdKzR"
   },
   "outputs": [],
   "source": []
  },
  {
   "cell_type": "markdown",
   "metadata": {
    "id": "kcYKv-MrqFWN"
   },
   "source": [
    "## KNN:"
   ]
  },
  {
   "cell_type": "code",
   "execution_count": 42,
   "metadata": {
    "id": "rVpLZyGuddv-"
   },
   "outputs": [],
   "source": [
    "from sklearn.neighbors import KNeighborsClassifier"
   ]
  },
  {
   "cell_type": "markdown",
   "metadata": {
    "id": "y06jtZh37jjD"
   },
   "source": [
    "Knn with 3 neighbours: "
   ]
  },
  {
   "cell_type": "code",
   "execution_count": 43,
   "metadata": {
    "colab": {
     "base_uri": "https://localhost:8080/"
    },
    "id": "KHYedIKedegp",
    "outputId": "8be890dc-7953-40a2-dee5-a786c2161e14"
   },
   "outputs": [
    {
     "name": "stdout",
     "output_type": "stream",
     "text": [
      "Test Accuracy: 0.7760814249363868\n",
      "Train Accuracy: 0.8816657027183343\n"
     ]
    }
   ],
   "source": [
    "# X_train, X_test, y_train, y_test = train_test_split(X, Y, test_size=0.2, random_state=42)\n",
    "\n",
    "k = 3  # Number of neighbors to consider\n",
    "clf = KNeighborsClassifier(n_neighbors=k)\n",
    "clf.fit(train_df, train_labels)\n",
    "\n",
    "y_pred = clf.predict(test_df)\n",
    "train_y_pred = clf.predict(train_df)\n",
    "train_accuracy = accuracy_score(train_labels, train_y_pred)\n",
    "accuracy = accuracy_score(test_labels, y_pred)\n",
    "print(\"Test Accuracy:\", accuracy)\n",
    "print(\"Train Accuracy:\", train_accuracy)"
   ]
  },
  {
   "cell_type": "markdown",
   "metadata": {
    "id": "tDFkAxi07o2n"
   },
   "source": [
    "knn with 5 neighbours:"
   ]
  },
  {
   "cell_type": "code",
   "execution_count": 44,
   "metadata": {
    "colab": {
     "base_uri": "https://localhost:8080/"
    },
    "id": "kPgUeALu7shA",
    "outputId": "b50b853d-cdce-4d20-fade-75c60edddb57"
   },
   "outputs": [
    {
     "name": "stdout",
     "output_type": "stream",
     "text": [
      "Test Accuracy: 0.7814018043025677\n",
      "Train Accuracy: 0.8525159051474841\n"
     ]
    }
   ],
   "source": [
    "k = 5  # Number of neighbors to consider\n",
    "clf = KNeighborsClassifier(n_neighbors=k)\n",
    "clf.fit(train_df, train_labels)\n",
    "\n",
    "y_pred = clf.predict(test_df)\n",
    "train_y_pred = clf.predict(train_df)\n",
    "train_accuracy = accuracy_score(train_labels, train_y_pred)\n",
    "accuracy = accuracy_score(test_labels, y_pred)\n",
    "print(\"Test Accuracy:\", accuracy)\n",
    "print(\"Train Accuracy:\", train_accuracy)"
   ]
  },
  {
   "cell_type": "markdown",
   "metadata": {
    "id": "J6tk_MQ5qtX5"
   },
   "source": [
    "## Logestic regression:"
   ]
  },
  {
   "cell_type": "code",
   "execution_count": 45,
   "metadata": {
    "id": "Byb1ubwgqoWH"
   },
   "outputs": [],
   "source": [
    "from sklearn.linear_model import LogisticRegression"
   ]
  },
  {
   "cell_type": "code",
   "execution_count": 46,
   "metadata": {
    "id": "3AT6OEthqxm6"
   },
   "outputs": [],
   "source": [
    "# X_train, X_test, y_train, y_test = train_test_split(X, Y, test_size=0.2, random_state=42)"
   ]
  },
  {
   "cell_type": "code",
   "execution_count": 47,
   "metadata": {
    "colab": {
     "base_uri": "https://localhost:8080/"
    },
    "id": "przA6wcJq2v-",
    "outputId": "faf5a1dd-8a6a-414c-d17a-9b2c9b4b27c0"
   },
   "outputs": [
    {
     "name": "stdout",
     "output_type": "stream",
     "text": [
      "Test Accuracy: 0.8089289845015036\n",
      "Train Accuracy: 0.8027761711972238\n"
     ]
    },
    {
     "name": "stderr",
     "output_type": "stream",
     "text": [
      "/usr/local/lib/python3.10/dist-packages/sklearn/linear_model/_logistic.py:458: ConvergenceWarning: lbfgs failed to converge (status=1):\n",
      "STOP: TOTAL NO. of ITERATIONS REACHED LIMIT.\n",
      "\n",
      "Increase the number of iterations (max_iter) or scale the data as shown in:\n",
      "    https://scikit-learn.org/stable/modules/preprocessing.html\n",
      "Please also refer to the documentation for alternative solver options:\n",
      "    https://scikit-learn.org/stable/modules/linear_model.html#logistic-regression\n",
      "  n_iter_i = _check_optimize_result(\n"
     ]
    }
   ],
   "source": [
    "clf = LogisticRegression()\n",
    "clf.fit(train_df, train_labels)\n",
    "\n",
    "y_pred = clf.predict(test_df)\n",
    "y_train_pred = clf.predict(train_df)\n",
    "accuracy = accuracy_score(test_labels, y_pred)\n",
    "train_accuracy = accuracy_score(train_labels, y_train_pred)\n",
    "print(\"Test Accuracy:\", accuracy)\n",
    "print(\"Train Accuracy:\", train_accuracy)"
   ]
  },
  {
   "cell_type": "code",
   "execution_count": 47,
   "metadata": {
    "id": "iNrDgeJaI-6p"
   },
   "outputs": [],
   "source": []
  },
  {
   "cell_type": "markdown",
   "metadata": {
    "id": "CHlCl6yt4oxx"
   },
   "source": [
    "## Q3:"
   ]
  },
  {
   "cell_type": "markdown",
   "metadata": {
    "id": "UFXPNC8c5NSz"
   },
   "source": [
    "**Overfitting:**\n",
    "Overfitting occurs when a machine learning model performs extremely well on the training data but fails to generalize well on new, unseen data. One common indication of overfitting is a large difference between the training accuracy and the test accuracy. Here are some scenarios that suggest overfitting:\n",
    "\n",
    "High Training Accuracy, Low Test Accuracy: If the model achieves high accuracy on the training data but significantly lower accuracy on the test data, it indicates overfitting. The model is memorizing the training data instead of learning patterns that can be applied to new data.\n",
    "\n",
    "Training Accuracy Close to 100%, Test Accuracy Much Lower: When the training accuracy is very close to 100% but the test accuracy is substantially lower, it suggests overfitting. The model is overly complex and captures noise or random variations in the training data.\n",
    "\n",
    "Increasing Training Accuracy, Decreasing Test Accuracy: If the training accuracy continues to improve while the test accuracy starts to decline, it implies overfitting. The model is becoming too specialized to the training data and fails to generalize well.\n",
    "\n",
    "**Underfitting:**\n",
    "Underfitting occurs when a machine learning model is too simple and fails to capture the underlying patterns in the data, resulting in poor performance on both the training and test data. Here are some signs that indicate underfitting:\n",
    "\n",
    "Low Training Accuracy: If the model achieves low accuracy on the training data, it suggests underfitting. The model is not able to capture the complexities and patterns present in the data.\n",
    "\n",
    "Low Test Accuracy: When both the training and test accuracies are low, it indicates underfitting. The model is too simplistic to accurately capture the relationships in the data.\n",
    "\n",
    "Training and Test Accuracies Converge at a Low Value: If the model shows similar low accuracies on both the training and test data, it suggests underfitting. The model is not able to fit the training data well and lacks the capacity to generalize to new data.\n",
    "\n",
    "**As we can see none of the above conditions happened in our results so the models operations are reasonably well.**"
   ]
  },
  {
   "cell_type": "markdown",
   "metadata": {
    "id": "uwZWnnKGLrAJ"
   },
   "source": [
    "# Phase 3:"
   ]
  },
  {
   "cell_type": "code",
   "execution_count": 48,
   "metadata": {
    "id": "-3CbWQB54BEe"
   },
   "outputs": [],
   "source": [
    "from sklearn.ensemble import RandomForestClassifier"
   ]
  },
  {
   "cell_type": "code",
   "execution_count": 49,
   "metadata": {
    "colab": {
     "base_uri": "https://localhost:8080/"
    },
    "id": "qnEXRPBpL0Lf",
    "outputId": "f9746954-d576-4039-83ce-3c1561873dee"
   },
   "outputs": [
    {
     "name": "stdout",
     "output_type": "stream",
     "text": [
      "Test Accuracy: 0.9132546842470507\n",
      "Train Accuracy: 0.9996529786003471\n"
     ]
    }
   ],
   "source": [
    "clf = RandomForestClassifier(n_estimators=100, random_state=42)\n",
    "clf.fit(train_df, train_labels)\n",
    "y_pred = clf.predict(test_df)\n",
    "y_train_pred = clf.predict(train_df)\n",
    "accuracy = accuracy_score(test_labels, y_pred)\n",
    "train_accuracy = accuracy_score(train_labels, y_train_pred)\n",
    "print(\"Test Accuracy:\", accuracy)\n",
    "print(\"Train Accuracy:\", train_accuracy)"
   ]
  },
  {
   "cell_type": "code",
   "execution_count": 50,
   "metadata": {
    "colab": {
     "base_uri": "https://localhost:8080/"
    },
    "id": "Uq8mo_HgSyHb",
    "outputId": "a969d6ad-5824-4ae2-a9fb-34aaa3efcd2b"
   },
   "outputs": [
    {
     "name": "stdout",
     "output_type": "stream",
     "text": [
      "Best Parameters: {'max_depth': None, 'n_estimators': 200}\n",
      "Best Score: 0.9067090803932908\n",
      "Test Accuracy: 0.9104788341429563\n",
      "Train Accuracy: 0.9996529786003471\n"
     ]
    }
   ],
   "source": [
    "clf = RandomForestClassifier(random_state=42)\n",
    "\n",
    "param_grid = {\n",
    "    'n_estimators': [50, 100, 200],\n",
    "    'max_depth': [None, 5, 10]\n",
    "}\n",
    "\n",
    "grid_search = GridSearchCV(estimator=clf, param_grid=param_grid, scoring='accuracy', cv=5)\n",
    "grid_search.fit(train_df, train_labels)\n",
    "\n",
    "best_params = grid_search.best_params_\n",
    "best_score = grid_search.best_score_\n",
    "print(\"Best Parameters:\", best_params)\n",
    "print(\"Best Score:\", best_score)\n",
    "\n",
    "clf = RandomForestClassifier(**best_params)\n",
    "clf.fit(train_df, train_labels)\n",
    "\n",
    "y_pred = clf.predict(test_df)\n",
    "y_train_pred = clf.predict(train_df)\n",
    "\n",
    "accuracy = accuracy_score(test_labels, y_pred)\n",
    "train_accuracy = accuracy_score(train_labels, y_train_pred)\n",
    "\n",
    "print(\"Test Accuracy:\", accuracy)\n",
    "print(\"Train Accuracy:\", train_accuracy)\n"
   ]
  },
  {
   "cell_type": "code",
   "execution_count": 51,
   "metadata": {
    "colab": {
     "base_uri": "https://localhost:8080/"
    },
    "id": "RexdEhS7VTZN",
    "outputId": "841731ba-6d5f-4d6d-9198-1c3f22b0bdcb"
   },
   "outputs": [
    {
     "name": "stdout",
     "output_type": "stream",
     "text": [
      "Best Parameters: {'max_depth': None, 'n_estimators': 20}\n",
      "Best Score: 0.8988432620011567\n",
      "Test Accuracy: 0.9060837381448068\n",
      "Train Accuracy: 0.9985540775014459\n"
     ]
    }
   ],
   "source": [
    "clf = RandomForestClassifier(random_state=42)\n",
    "\n",
    "param_grid = {\n",
    "    'n_estimators': [5, 10, 20],\n",
    "    'max_depth': [None, 5, 10]\n",
    "}\n",
    "\n",
    "grid_search = GridSearchCV(estimator=clf, param_grid=param_grid, scoring='accuracy', cv=5)\n",
    "grid_search.fit(train_df, train_labels)\n",
    "\n",
    "best_params = grid_search.best_params_\n",
    "best_score = grid_search.best_score_\n",
    "print(\"Best Parameters:\", best_params)\n",
    "print(\"Best Score:\", best_score)\n",
    "\n",
    "clf = RandomForestClassifier(**best_params)\n",
    "clf.fit(train_df, train_labels)\n",
    "\n",
    "y_pred = clf.predict(test_df)\n",
    "y_train_pred = clf.predict(train_df)\n",
    "\n",
    "accuracy = accuracy_score(test_labels, y_pred)\n",
    "train_accuracy = accuracy_score(train_labels, y_train_pred)\n",
    "\n",
    "print(\"Test Accuracy:\", accuracy)\n",
    "print(\"Train Accuracy:\", train_accuracy)"
   ]
  },
  {
   "cell_type": "markdown",
   "metadata": {
    "id": "UcDTEPeZTs4N"
   },
   "source": [
    "## Q1:"
   ]
  },
  {
   "cell_type": "markdown",
   "metadata": {
    "id": "rB7Cpp54TyLX"
   },
   "source": [
    "Number of Trees (n_estimators): This hyperparameter determines the number of decision trees to be included in the random forest. Increasing the number of trees can improve the performance of the model, but it also increases the computational cost. It is important to find an optimal balance based on the specific problem.\n",
    "\n",
    "Maximum Depth (max_depth): This hyperparameter specifies the maximum depth allowed for each decision tree in the random forest. Controlling the maximum depth helps to limit the complexity of the individual trees and prevent overfitting. It is important to tune this hyperparameter based on the complexity of the dataset and the desired level of generalization."
   ]
  },
  {
   "cell_type": "code",
   "execution_count": 52,
   "metadata": {
    "colab": {
     "base_uri": "https://localhost:8080/",
     "height": 54
    },
    "id": "yXkKxfN9WYqD",
    "outputId": "b6c99d58-e235-4e52-c047-749320f86319"
   },
   "outputs": [
    {
     "data": {
      "image/png": "[encoded data removed]",
      "text/plain": [
       "<Figure size 640x480 with 1 Axes>"
      ]
     },
     "metadata": {},
     "output_type": "display_data"
    }
   ],
   "source": [
    "import matplotlib.pyplot as plt\n",
    "\n",
    "# Define the hyperparameters and their corresponding values\n",
    "max_depth_values = [15, 5, 10]\n",
    "n_estimators_values = [50, 100, 200]\n",
    "\n",
    "# Initialize lists to store the hyperparameter combinations and accuracy\n",
    "max_depth_list = []\n",
    "n_estimators_list = []\n",
    "accuracy_list = []\n",
    "\n",
    "# Loop through all the hyperparameter combinations\n",
    "for max_depth in max_depth_values:\n",
    "    for n_estimators in n_estimators_values:\n",
    "        # Create and fit the model\n",
    "        clf = RandomForestClassifier(max_depth=max_depth, n_estimators=n_estimators, random_state=42)\n",
    "        clf.fit(train_df, train_labels)\n",
    "\n",
    "        # Make predictions on the test set\n",
    "        y_pred = clf.predict(test_df)\n",
    "\n",
    "        # Calculate the accuracy score\n",
    "        accuracy = accuracy_score(test_labels, y_pred)\n",
    "\n",
    "        # Store the hyperparameter values and accuracy\n",
    "        max_depth_list.append(max_depth)\n",
    "        n_estimators_list.append(n_estimators)\n",
    "        accuracy_list.append(accuracy)\n",
    "\n",
    "# Create a scatter plot\n",
    "plt.scatter(max_depth_list, n_estimators_list)\n",
    "\n",
    "# Add text annotations for accuracy values\n",
    "for i in range(len(accuracy_list)):\n",
    "    plt.text(max_depth_list[i], n_estimators_list[i], f'{accuracy_list[i]:.3f}', ha='center', va='center')\n",
    "\n",
    "plt.xlabel('max_depth')\n",
    "plt.ylabel('n_estimators')\n",
    "plt.title('Accuracy vs. Hyperparameters')\n",
    "\n",
    "plt.show()\n"
   ]
  },
  {
   "cell_type": "markdown",
   "metadata": {
    "id": "49o7ZkpFO0vQ"
   },
   "source": [
    "## Q2: "
   ]
  },
  {
   "cell_type": "markdown",
   "metadata": {
    "id": "0kjTvtFvN2yC"
   },
   "source": [
    "In general, a Random Forest model tends to be more accurate than a single Decision Tree model. Random Forest is an ensemble learning method that combines multiple Decision Trees and makes predictions based on the consensus of these trees. It reduces overfitting by introducing randomness and diversity among the individual trees. Random Forest models address the bias-variance trade-off by combining multiple decision trees. Each tree in the forest is trained on a random subset of the data and features, introducing randomness and reducing variance. By aggregating the predictions of multiple trees, Random Forest models can balance bias and variance, resulting in better overall performance.\n",
    "However, it's important to note that there can be cases where a Decision Tree performs better than a Random Forest, especially if the dataset is small or the problem is relatively simple.\n",
    "In summary, a single Decision Tree model may have high bias or high variance, whereas Random Forest models tend to reduce variance and achieve a better balance between bias and variance."
   ]
  }
 ],
 "metadata": {
  "colab": {
   "collapsed_sections": [
    "U5nccaEYSENo",
    "_BRRqSw6cb00"
   ],
   "provenance": [],
   "toc_visible": true
  },
  "kernelspec": {
   "display_name": "Python 3 (ipykernel)",
   "language": "python",
   "name": "python3"
  },
  "language_info": {
   "codemirror_mode": {
    "name": "ipython",
    "version": 3
   },
   "file_extension": ".py",
   "mimetype": "text/x-python",
   "name": "python",
   "nbconvert_exporter": "python",
   "pygments_lexer": "ipython3",
   "version": "3.9.13"
  }
 },
 "nbformat": 4,
 "nbformat_minor": 1
}
