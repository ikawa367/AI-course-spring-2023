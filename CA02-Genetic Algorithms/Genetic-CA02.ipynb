{
 "cells": [
  {
   "cell_type": "markdown",
   "id": "67d68a69",
   "metadata": {},
   "source": [
    "# CA 02: Genetic algorithms\n",
    "## Pardis Zandkarimi -\n",
    "Introduction: In this CA we learnt about basics of genetic algorithms for finding the optimal solution in a large range of possibilities. The portfolio is being modeled and we are looking for the best weights to pick from each assets.\n",
    "\n",
    "Chromosome: Chromosomes definition can vary problem to problem. In this case chromosome is a list of weights that we picked from each asset respectively.\n",
    "Algorithm: first of all we import the libraries."
   ]
  },
  {
   "cell_type": "code",
   "execution_count": 63,
   "id": "f1f14452",
   "metadata": {},
   "outputs": [],
   "source": [
    "import pandas as pd\n",
    "import copy\n",
    "import numpy as np\n",
    "import scipy as sc\n",
    "from random import randrange"
   ]
  },
  {
   "cell_type": "markdown",
   "id": "7443d27a",
   "metadata": {},
   "source": [
    "Then we define values that are going to be used."
   ]
  },
  {
   "cell_type": "code",
   "execution_count": 64,
   "id": "30f0eb87",
   "metadata": {},
   "outputs": [],
   "source": [
    "df = pd.read_csv('data.csv')\n",
    "num_assets = len(df)\n",
    "diversity_weight = 0.3\n",
    "return_weight = 120\n",
    "risk_weight = 15\n",
    "max_generation_iteration = 200\n",
    "crossover_rate = 0.7\n",
    "population_size = 300\n",
    "mutation_rate = 0.2"
   ]
  },
  {
   "cell_type": "markdown",
   "id": "45e8de9c",
   "metadata": {},
   "source": [
    "First of all we need to produce our first generation randomly to make them improve in the next iterations. So this function is defined. It produces a matrix of random numbers between zero and one and normalize each row to be sure that sum of each chromosome will be equal to one."
   ]
  },
  {
   "cell_type": "code",
   "execution_count": 65,
   "id": "0fc5e0c9",
   "metadata": {},
   "outputs": [],
   "source": [
    "def first_generation_genertor():\n",
    "  pop = np.random.random(size=(population_size, num_assets))\n",
    "\n",
    "  # ensure the sum of each individual is 1(normaliza)\n",
    "  for i in pop:\n",
    "    i /= np.sum(i)\n",
    "  return pop\n"
   ]
  },
  {
   "cell_type": "markdown",
   "id": "91862f7f",
   "metadata": {},
   "source": [
    "Then we define fitness function. This function is going to tell us how good is a chromosome(based ofn the values that are important for us (low risk, high return and high diversity)"
   ]
  },
  {
   "cell_type": "code",
   "execution_count": 66,
   "id": "ca304af9",
   "metadata": {},
   "outputs": [],
   "source": [
    "#negative fitness is possible\n",
    "def fitness(chromosome):\n",
    "  diversity_value = np.count_nonzero(chromosome)\n",
    "  return_value = np.sum(np.multiply(df['return'], chromosome))\n",
    "  risk_value = np.sum(np.multiply(df['risk'], chromosome))\n",
    "  return ( (return_value )**2 /\n",
    "          (risk_value ))"
   ]
  },
  {
   "cell_type": "markdown",
   "id": "74d7ae2b",
   "metadata": {},
   "source": [
    "This function prints the results of the generation."
   ]
  },
  {
   "cell_type": "code",
   "execution_count": 67,
   "id": "f79dbc13",
   "metadata": {},
   "outputs": [],
   "source": [
    "def print_generation_info(fitness_list, iteration):\n",
    "  print(f\"max fitness of the generation: {max(fitness_list)}\")\n",
    "  print(f\"index of the best chromosome: {np.argmax(fitness_list)}\")\n",
    "  print(f\"min fitness of the generation: {min(fitness_list)}\")\n",
    "  print(f\"average fitness of the generation: {np.average(fitness_list)}\")\n",
    "  print(f\"generation : {iteration}\")\n",
    "  print(\"----------------------------\")\n",
    "  return np.argmax(fitness_list)"
   ]
  },
  {
   "cell_type": "markdown",
   "id": "3c229965",
   "metadata": {},
   "source": [
    "First of all we need to choose two parents from the population to crossover. We want the better individuals to have a higher chance of being selected by roulette wheel. So first of all we give each individual a number (based on their fitness ranking) and then select two of them randomly. I first didnt use ranking and the average fitness of the generations didn't vary much trhough iterations so I used the ranking technique."
   ]
  },
  {
   "cell_type": "code",
   "execution_count": 68,
   "id": "9e64da52",
   "metadata": {},
   "outputs": [],
   "source": [
    "def choose_parents(population, pop_fitness):\n",
    "  selection_probs = []\n",
    "  rank = sc.stats.rankdata(pop_fitness,  method='min')\n",
    "  rank = rank /np.sum(rank)\n",
    "\n",
    "  parent1_index = np.random.choice(len(population), p=rank)\n",
    "  parent2_index = np.random.choice(len(population), p=rank)\n",
    "  return population[parent1_index], population[parent2_index]"
   ]
  },
  {
   "cell_type": "markdown",
   "id": "772eed59",
   "metadata": {},
   "source": [
    "After we choose the parents we need to produce new generation from them so we crossover. This crossover is single point but the point is being chosen randomly. After we crossover the chromosomes normaliza each chromosome to be sure that sum of assets is going to be equal to one."
   ]
  },
  {
   "cell_type": "code",
   "execution_count": 69,
   "id": "51f4bf87",
   "metadata": {},
   "outputs": [],
   "source": [
    "def crossover(parent1, parent2, crossover_rate):\n",
    "  if(np.random.random() > crossover_rate):\n",
    "    return parent1, parent2\n",
    "\n",
    "  crossover_point = randrange(0, len(parent1))\n",
    "  new_chromosome1 = np.empty_like(parent1)\n",
    "  new_chromosome2 = np.empty_like(parent1)\n",
    "  \n",
    "  new_chromosome1[:crossover_point] = parent1[:crossover_point]\n",
    "  new_chromosome1[crossover_point:]= parent2[crossover_point:]\n",
    "\n",
    "  new_chromosome2[:crossover_point] = parent2[:crossover_point]\n",
    "  new_chromosome2[crossover_point:] = parent1[crossover_point:]\n",
    "   \n",
    "  new_chromosome1 /= np.sum(new_chromosome1)\n",
    "  new_chromosome2 /= np.sum(new_chromosome2)\n",
    "  \n",
    "  return new_chromosome1, new_chromosome2"
   ]
  },
  {
   "cell_type": "markdown",
   "id": "e458b5b2",
   "metadata": {},
   "source": [
    "After the crossover we mutate the chromosomes by this function:"
   ]
  },
  {
   "cell_type": "code",
   "execution_count": 70,
   "id": "50cf429a",
   "metadata": {},
   "outputs": [],
   "source": [
    "def mutation(mutation_probability, chromosome):\n",
    "  for i in range (num_assets):\n",
    "    n = np.random.random()\n",
    "    if(n < mutation_probability):\n",
    "      chromosome[i] *= np.random.randint(5)\n",
    "  #normalization\n",
    "  chromosome /= np.sum(chromosome)   \n",
    "  return chromosome\n"
   ]
  },
  {
   "cell_type": "markdown",
   "id": "45232ecc",
   "metadata": {},
   "source": [
    "In each generation we need to check if the goal chromosome has been found or not. This function checks if a chromosome satisfied the conditions of the problem."
   ]
  },
  {
   "cell_type": "code",
   "execution_count": 71,
   "id": "9895ad51",
   "metadata": {},
   "outputs": [],
   "source": [
    "def goal_test(chromosome):\n",
    "  return_condition = np.sum(np.multiply(df['return'], chromosome)) >= 10\n",
    "  \n",
    "  diversity_condition = np.count_nonzero(chromosome) >= 30\n",
    "  risk_condition = np.sum(np.multiply(df['risk'], chromosome)) <= 0.6\n",
    "  \n",
    "  if(return_condition and diversity_condition and risk_condition):\n",
    "    print(\"goal state!\")\n",
    "    return True"
   ]
  },
  {
   "cell_type": "markdown",
   "id": "e08db20a",
   "metadata": {},
   "source": [
    "After that all is left is that to call the functions. We produce generations and for each generation produce new chromosomes to form a new generation."
   ]
  },
  {
   "cell_type": "code",
   "execution_count": 72,
   "id": "2689cb7f",
   "metadata": {},
   "outputs": [
    {
     "name": "stdout",
     "output_type": "stream",
     "text": [
      "max fitness of the generation: 1.385493498889347\n",
      "index of the best chromosome: 134\n",
      "min fitness of the generation: 1.0555694460170226\n",
      "average fitness of the generation: 1.2041623144586129\n",
      "generation : 0\n",
      "----------------------------\n",
      "max fitness of the generation: 1.6640976077054097\n",
      "index of the best chromosome: 201\n",
      "min fitness of the generation: 0.9409118372547182\n",
      "average fitness of the generation: 1.2493017182115371\n",
      "generation : 1\n",
      "----------------------------\n",
      "max fitness of the generation: 2.1715355068116518\n",
      "index of the best chromosome: 117\n",
      "min fitness of the generation: 0.9922444453570709\n",
      "average fitness of the generation: 1.3057217810219404\n",
      "generation : 2\n",
      "----------------------------\n",
      "max fitness of the generation: 4.059270181385992\n",
      "index of the best chromosome: 276\n",
      "min fitness of the generation: 0.8381042138514334\n",
      "average fitness of the generation: 1.4375363559920538\n",
      "generation : 3\n",
      "----------------------------\n",
      "max fitness of the generation: 4.725938377884031\n",
      "index of the best chromosome: 265\n",
      "min fitness of the generation: 0.8863309112903945\n",
      "average fitness of the generation: 1.5569884517005768\n",
      "generation : 4\n",
      "----------------------------\n",
      "max fitness of the generation: 8.925502908822267\n",
      "index of the best chromosome: 126\n",
      "min fitness of the generation: 0.9012480775678628\n",
      "average fitness of the generation: 1.7887476562686084\n",
      "generation : 5\n",
      "----------------------------\n",
      "max fitness of the generation: 13.384509626114\n",
      "index of the best chromosome: 9\n",
      "min fitness of the generation: 0.5924062837431049\n",
      "average fitness of the generation: 2.154534259440292\n",
      "generation : 6\n",
      "----------------------------\n",
      "max fitness of the generation: 17.883911091209608\n",
      "index of the best chromosome: 266\n",
      "min fitness of the generation: 0.7836244936625212\n",
      "average fitness of the generation: 2.7165134038191137\n",
      "generation : 7\n",
      "----------------------------\n",
      "max fitness of the generation: 18.4313677262031\n",
      "index of the best chromosome: 36\n",
      "min fitness of the generation: 0.7228410724204023\n",
      "average fitness of the generation: 3.6176816286812836\n",
      "generation : 8\n",
      "----------------------------\n",
      "max fitness of the generation: 31.236784807879403\n",
      "index of the best chromosome: 117\n",
      "min fitness of the generation: 1.1369593725567242\n",
      "average fitness of the generation: 4.75242569521869\n",
      "generation : 9\n",
      "----------------------------\n",
      "max fitness of the generation: 51.71055372215582\n",
      "index of the best chromosome: 137\n",
      "min fitness of the generation: 0.8589276604151761\n",
      "average fitness of the generation: 6.345875767833676\n",
      "generation : 10\n",
      "----------------------------\n",
      "max fitness of the generation: 138.41135632038979\n",
      "index of the best chromosome: 95\n",
      "min fitness of the generation: 0.9296364038897621\n",
      "average fitness of the generation: 9.324643825898528\n",
      "generation : 11\n",
      "----------------------------\n",
      "max fitness of the generation: 242.01761572177182\n",
      "index of the best chromosome: 298\n",
      "min fitness of the generation: 0.6708587116184013\n",
      "average fitness of the generation: 12.467251310642931\n",
      "generation : 12\n",
      "----------------------------\n",
      "max fitness of the generation: 185.42660738762413\n",
      "index of the best chromosome: 220\n",
      "min fitness of the generation: 0.7933723181029502\n",
      "average fitness of the generation: 18.336406334748737\n",
      "generation : 13\n",
      "----------------------------\n",
      "goal state!\n",
      "It took 13 generation iterations to reach the goal state\n"
     ]
    }
   ],
   "source": [
    "genaration_iteration = 1\n",
    "first_population = first_generation_genertor()\n",
    "first_generations_fitness = list(map(fitness, first_population))\n",
    "best_chromosome_index = print_generation_info(first_generations_fitness, 0)\n",
    "goal = False\n",
    "\n",
    "num_assets = len(df)\n",
    "pop = np.random.random(size=(2, num_assets))\n",
    "for i in pop:\n",
    "   i /= np.sum(i)\n",
    "\n",
    "while((genaration_iteration <= max_generation_iteration) & (goal == False)):\n",
    "  new_generation = []\n",
    "  for i in range (int(population_size/2)):\n",
    "    parent1, parent2 = choose_parents(first_population, first_generations_fitness)\n",
    "    child1 = []\n",
    "    child2 = []\n",
    "    child1, child2 = crossover(parent1, parent2, crossover_rate)\n",
    "    child1 = mutation(mutation_rate, child1)\n",
    "    child2 = mutation(mutation_rate, child2)\n",
    "    \n",
    "    new_generation.append(child1)\n",
    "    new_generation.append(child2)\n",
    "    \n",
    "    \n",
    "  \n",
    "  new_generation_fitness = list(map(fitness, new_generation))\n",
    "  best_chromosome_index = print_generation_info(new_generation_fitness, genaration_iteration)\n",
    "  for i in first_population:\n",
    "    if goal_test(i):\n",
    "      print(f\"It took {genaration_iteration} generation iterations to reach the goal state\")\n",
    "      goal = True\n",
    "      break\n",
    "  \n",
    "  #chenge the generation(update first geeration)\n",
    "  first_population = copy.deepcopy(new_generation)\n",
    "  first_generations_fitness = new_generation_fitness\n",
    "  genaration_iteration += 1\n"
   ]
  },
  {
   "cell_type": "markdown",
   "id": "31d10933",
   "metadata": {},
   "source": [
    "# Questions:\n",
    "\n",
    "## 1. What is the mpact of the very large or very small population size?\n",
    "If the population is too large it takes long to produce each generation. But if it's too small it takes lots of iterations to find the optimal answer cause variation of chromosome combinations are so low.\n",
    "\n",
    "## 2. What is the impact of increasing the population size on the accuracy and the time complexity?\n",
    "It takes longer and longer to produce the generation in each iteration. But It is more accurate cause we can have more fit chidren from the chosen fit parents.\n",
    "\n",
    "## 3. What is the impact of crossover and mutation? Compare. Is it possible to use only one of them?\n",
    "Crossover makes new chromosomes from a parent. Its important cause we are more likely to choose parents with the most fitness values so the combination of two fit parents might lead us to the answer. But mutation is just as important as crossover is. We need to generate some of the gens randomly cause in some cases crossover does not lead us to the answer and no one of the parents have the gen that we need to reach the goal state.\n",
    "\n",
    "## 4. What are other techniques to reach the goal state faster in this case?\n",
    "Using elit population in the next generation can be helpful. We can also try techniques other than roulette wheel.\n",
    "\n",
    "## 5. Sometimes chromosomes dont change during a generation iteration. Why this issue happens? How can it be solved?\n",
    "It happens if the mutation rate value is so low and the diversity of the population is not as much as we are expecting it to be and chromosomes are so alike. In this case we get stuck suboptimal situation and it takes lots of generations to reach the goal state. By increasing mutation rate or using other techniques in crossover (such as uniform crossover) this issue can be solved.\n",
    "\n",
    "## 6. What is your suggestion about ending the programm when there is no possible way to goal state?\n",
    "To assign a number to max iteration value we can prevent getting stuck in a never ending loop."
   ]
  },
  {
   "cell_type": "code",
   "execution_count": null,
   "id": "a980726c",
   "metadata": {},
   "outputs": [],
   "source": []
  },
  {
   "cell_type": "code",
   "execution_count": null,
   "id": "273590c0",
   "metadata": {},
   "outputs": [],
   "source": []
  },
  {
   "cell_type": "code",
   "execution_count": null,
   "id": "ddff2cae",
   "metadata": {},
   "outputs": [],
   "source": []
  },
  {
   "cell_type": "code",
   "execution_count": null,
   "id": "e6fbe6cb",
   "metadata": {},
   "outputs": [],
   "source": []
  },
  {
   "cell_type": "code",
   "execution_count": null,
   "id": "1ede7455",
   "metadata": {},
   "outputs": [],
   "source": []
  },
  {
   "cell_type": "code",
   "execution_count": null,
   "id": "815d9c96",
   "metadata": {},
   "outputs": [],
   "source": []
  },
  {
   "cell_type": "code",
   "execution_count": null,
   "id": "c2127c68",
   "metadata": {},
   "outputs": [],
   "source": []
  },
  {
   "cell_type": "code",
   "execution_count": null,
   "id": "9dcf7295",
   "metadata": {},
   "outputs": [],
   "source": []
  }
 ],
 "metadata": {
  "kernelspec": {
   "display_name": "Python 3 (ipykernel)",
   "language": "python",
   "name": "python3"
  },
  "language_info": {
   "codemirror_mode": {
    "name": "ipython",
    "version": 3
   },
   "file_extension": ".py",
   "mimetype": "text/x-python",
   "name": "python",
   "nbconvert_exporter": "python",
   "pygments_lexer": "ipython3",
   "version": "3.9.13"
  }
 },
 "nbformat": 4,
 "nbformat_minor": 5
}
